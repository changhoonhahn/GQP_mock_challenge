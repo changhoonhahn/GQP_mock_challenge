{
 "cells": [
  {
   "cell_type": "markdown",
   "id": "f5ab1f1f-8235-4625-8022-ae62684b61db",
   "metadata": {},
   "source": [
    "# extract Legacy Survey photometry for BGS targets"
   ]
  },
  {
   "cell_type": "code",
   "execution_count": 2,
   "id": "f23392db-8248-4960-88b5-62d5914fbf35",
   "metadata": {},
   "outputs": [],
   "source": [
    "import os\n",
    "import numpy as np \n",
    "import astropy.table as atable\n",
    "from tqdm.notebook import tqdm, trange"
   ]
  },
  {
   "cell_type": "code",
   "execution_count": 3,
   "id": "61747e76-dc07-441e-b927-1b74637bca2a",
   "metadata": {},
   "outputs": [],
   "source": [
    "from desitarget import cuts as desi_cuts"
   ]
  },
  {
   "cell_type": "code",
   "execution_count": 4,
   "id": "ff50c942-32cd-4d59-b7d7-45e6b1476e20",
   "metadata": {},
   "outputs": [],
   "source": [
    "# -- plotting -- \n",
    "import matplotlib as mpl\n",
    "import matplotlib.pyplot as plt\n",
    "mpl.rcParams['text.usetex'] = True\n",
    "mpl.rcParams['font.family'] = 'serif'\n",
    "mpl.rcParams['axes.linewidth'] = 1.5\n",
    "mpl.rcParams['axes.xmargin'] = 1\n",
    "mpl.rcParams['xtick.labelsize'] = 'x-large'\n",
    "mpl.rcParams['xtick.major.size'] = 5\n",
    "mpl.rcParams['xtick.major.width'] = 1.5\n",
    "mpl.rcParams['ytick.labelsize'] = 'x-large'\n",
    "mpl.rcParams['ytick.major.size'] = 5\n",
    "mpl.rcParams['ytick.major.width'] = 1.5\n",
    "mpl.rcParams['legend.frameon'] = False"
   ]
  },
  {
   "cell_type": "code",
   "execution_count": 5,
   "id": "ed5e2cf9-6c9e-4310-bfda-f477378f8493",
   "metadata": {},
   "outputs": [],
   "source": [
    "import corner as DFM"
   ]
  },
  {
   "cell_type": "code",
   "execution_count": 6,
   "id": "87fcfa66-3a0b-4b14-b8aa-ef01a8534555",
   "metadata": {},
   "outputs": [],
   "source": [
    "ls_S_dir = '/global/cfs/cdirs/cosmo/data/legacysurvey/dr9/south/sweep/9.0'\n",
    "ls_N_dir = '/global/cfs/cdirs/cosmo/data/legacysurvey/dr9/north/sweep/9.0'\n",
    "\n",
    "cat_S = atable.Table.read(os.path.join(ls_S_dir, 'sweep-200p005-210p010.fits'))\n",
    "cat_N = atable.Table.read(os.path.join(ls_N_dir, 'sweep-190p040-200p045.fits'))"
   ]
  },
  {
   "cell_type": "code",
   "execution_count": 7,
   "id": "ead1fb14-0fe8-466d-99a4-1dc2a0cf8bd1",
   "metadata": {},
   "outputs": [],
   "source": [
    "cat_S['PHOTSYS'] = 'S'\n",
    "cat_N['PHOTSYS'] = 'N'"
   ]
  },
  {
   "cell_type": "code",
   "execution_count": 8,
   "id": "70f690d2-9dce-4db7-843e-a9f056029edb",
   "metadata": {},
   "outputs": [],
   "source": [
    "def BGS_quality_mask(targets, south=True):\n",
    "    ''' apply BGS quality cut and imaging mask\n",
    "    '''\n",
    "    photsys_north, photsys_south, obs_rflux, gflux, rflux, zflux,                 \\\n",
    "    w1flux, w2flux, gfiberflux, rfiberflux, zfiberflux,                           \\\n",
    "    gfibertotflux, rfibertotflux, zfibertotflux,                                  \\\n",
    "    objtype, release, ra, dec, gfluxivar, rfluxivar, zfluxivar, w1fluxivar,       \\\n",
    "    gnobs, rnobs, znobs, gfracflux, rfracflux, zfracflux,                         \\\n",
    "    gfracmasked, rfracmasked, zfracmasked,                                        \\\n",
    "    gfracin, rfracin, zfracin, gallmask, rallmask, zallmask,                      \\\n",
    "    gsnr, rsnr, zsnr, w1snr, w2snr, dchisq, deltaChi2, maskbits, refcat = desi_cuts._prepare_optical_wise(objects=targets, mask=True)\n",
    "\n",
    "    gaia, pmra, pmdec, parallax, parallaxovererror, parallaxerr, gaiagmag, \\\n",
    "    gaiabmag, gaiarmag, gaiaaen, gaiadupsource, Grr, gaiaparamssolved, \\\n",
    "    gaiabprpfactor, gaiasigma5dmax, galb = desi_cuts._prepare_gaia(objects=targets, colnames=None)\n",
    "\n",
    "    bgs = np.ones_like(gnobs, dtype='?')    \n",
    "    bgs &= (gnobs >= 1) & (rnobs >= 1) & (znobs >= 1)\n",
    "    bgs &= (gfluxivar > 0) & (rfluxivar > 0) & (zfluxivar > 0)\n",
    "    \n",
    "    # ADM geometric masking cuts from the Legacy Surveys.\n",
    "    # BRIGHT & CLUSTER for BGS\n",
    "    bgs &= desi_cuts.imaging_mask(maskbits, bgsmask=True)\n",
    "\n",
    "    return bgs"
   ]
  },
  {
   "cell_type": "code",
   "execution_count": 9,
   "id": "7eb76f3d-5635-4407-b624-e4b0168f4344",
   "metadata": {},
   "outputs": [],
   "source": [
    "qm_S = BGS_quality_mask(cat_S, south=True)\n",
    "qm_N = BGS_quality_mask(cat_N, south=True)"
   ]
  },
  {
   "cell_type": "code",
   "execution_count": 10,
   "id": "9d9489bd-a306-4ade-8cfa-b7cde741c14b",
   "metadata": {},
   "outputs": [],
   "source": [
    "optw_S = desi_cuts._prepare_optical_wise(objects=cat_S, mask=True)\n",
    "optw_N = desi_cuts._prepare_optical_wise(objects=cat_N, mask=True)\n",
    "\n",
    "gaia_S = desi_cuts._prepare_gaia(objects=cat_S, colnames=None)\n",
    "gaia_N = desi_cuts._prepare_gaia(objects=cat_N, colnames=None)"
   ]
  },
  {
   "cell_type": "code",
   "execution_count": 11,
   "id": "6d4c2704-a386-4b43-9c6c-505a6634cdbb",
   "metadata": {},
   "outputs": [],
   "source": [
    "rfib_S = 22.5 - 2.5 * np.log10(optw_S[9].clip(1e-16))\n",
    "gmag_S = 22.5 - 2.5 * np.log10(optw_S[3].clip(1e-16))\n",
    "rmag_S = 22.5 - 2.5 * np.log10(optw_S[4].clip(1e-16))\n",
    "zmag_S = 22.5 - 2.5 * np.log10(optw_S[5].clip(1e-16))\n",
    "w1_S = 22.5 - 2.5 * np.log10(optw_S[6].clip(1e-16))\n",
    "\n",
    "gaia_g_S = gaia_S[6]\n",
    "G_rr_S = gaia_S[11]\n",
    "\n",
    "rfib_N = 22.5 - 2.5 * np.log10(optw_N[9].clip(1e-16))\n",
    "gmag_N = 22.5 - 2.5 * np.log10(optw_N[3].clip(1e-16))\n",
    "rmag_N = 22.5 - 2.5 * np.log10(optw_N[4].clip(1e-16))\n",
    "zmag_N = 22.5 - 2.5 * np.log10(optw_N[5].clip(1e-16))\n",
    "w1_N = 22.5 - 2.5 * np.log10(optw_N[6].clip(1e-16))\n",
    "\n",
    "gaia_g_N = gaia_N[6]\n",
    "G_rr_N = gaia_N[11]"
   ]
  },
  {
   "cell_type": "code",
   "execution_count": 12,
   "id": "b8001cda-f893-49ea-be77-562fbbb36ac3",
   "metadata": {},
   "outputs": [],
   "source": [
    "def BGS_sample(targets, south=True, targtype='bright'):\n",
    "    ''' apply BGS quality cut and imaging mask\n",
    "    '''\n",
    "    photsys_north, photsys_south, obs_rflux, gflux, rflux, zflux,                 \\\n",
    "    w1flux, w2flux, gfiberflux, rfiberflux, zfiberflux,                           \\\n",
    "    gfibertotflux, rfibertotflux, zfibertotflux,                                  \\\n",
    "    objtype, release, ra, dec, gfluxivar, rfluxivar, zfluxivar, w1fluxivar,       \\\n",
    "    gnobs, rnobs, znobs, gfracflux, rfracflux, zfracflux,                         \\\n",
    "    gfracmasked, rfracmasked, zfracmasked,                                        \\\n",
    "    gfracin, rfracin, zfracin, gallmask, rallmask, zallmask,                      \\\n",
    "    gsnr, rsnr, zsnr, w1snr, w2snr, dchisq, deltaChi2, maskbits, refcat = desi_cuts._prepare_optical_wise(objects=targets, mask=True)\n",
    "\n",
    "    gaia, pmra, pmdec, parallax, parallaxovererror, parallaxerr, gaiagmag, \\\n",
    "    gaiabmag, gaiarmag, gaiaaen, gaiadupsource, Grr, gaiaparamssolved, \\\n",
    "    gaiabprpfactor, gaiasigma5dmax, galb = desi_cuts._prepare_gaia(objects=targets, colnames=None)\n",
    "    \n",
    "    bgs = desi_cuts.isBGS(\n",
    "            gflux=gflux, rflux=rflux, zflux=zflux, w1flux=w1flux, w2flux=w2flux, rfibertotflux=rfibertotflux,\n",
    "            rfiberflux=rfiberflux, gnobs=gnobs, rnobs=rnobs, znobs=znobs,\n",
    "            gfluxivar=gfluxivar, rfluxivar=rfluxivar, zfluxivar=zfluxivar,\n",
    "            maskbits=maskbits, Grr=Grr, refcat=np.array(refcat).astype(str), w1snr=w1snr, w2snr=w2snr, gaiagmag=gaiagmag,\n",
    "            objtype=objtype, primary=None, south=south, targtype=targtype)\n",
    "    return bgs"
   ]
  },
  {
   "cell_type": "code",
   "execution_count": 13,
   "id": "b2911958-9621-4ff9-823e-6b2a865c1e87",
   "metadata": {},
   "outputs": [],
   "source": [
    "bgs_bright_S = BGS_sample(cat_S, south=True, targtype='bright')\n",
    "bgs_bright_N = BGS_sample(cat_N, south=False, targtype='bright')"
   ]
  },
  {
   "cell_type": "code",
   "execution_count": 14,
   "id": "9d3e0d93-f4ec-4a38-a034-00b392378217",
   "metadata": {},
   "outputs": [],
   "source": [
    "bgs_faint_S = BGS_sample(cat_S, south=True, targtype='faint')\n",
    "bgs_faint_N = BGS_sample(cat_N, south=False, targtype='faint')"
   ]
  },
  {
   "cell_type": "code",
   "execution_count": 22,
   "id": "cf56b5aa-f248-47f6-a868-4864fa873b94",
   "metadata": {},
   "outputs": [],
   "source": [
    "np.save('/global/cscratch1/sd/chahah/gqp_mc/legacysurvey/bgs.gmag.npy', np.concatenate([gmag_S[bgs_bright_S | bgs_faint_S], gmag_N[bgs_bright_N | bgs_faint_N]]))\n",
    "np.save('/global/cscratch1/sd/chahah/gqp_mc/legacysurvey/bgs.rmag.npy', np.concatenate([rmag_S[bgs_bright_S | bgs_faint_S], rmag_N[bgs_bright_N | bgs_faint_N]]))\n",
    "np.save('/global/cscratch1/sd/chahah/gqp_mc/legacysurvey/bgs.zmag.npy', np.concatenate([zmag_S[bgs_bright_S | bgs_faint_S], zmag_N[bgs_bright_N | bgs_faint_N]]))"
   ]
  }
 ],
 "metadata": {
  "kernelspec": {
   "display_name": "DESI master",
   "language": "python",
   "name": "desi-master"
  },
  "language_info": {
   "codemirror_mode": {
    "name": "ipython",
    "version": 3
   },
   "file_extension": ".py",
   "mimetype": "text/x-python",
   "name": "python",
   "nbconvert_exporter": "python",
   "pygments_lexer": "ipython3",
   "version": "3.9.7"
  }
 },
 "nbformat": 4,
 "nbformat_minor": 5
}

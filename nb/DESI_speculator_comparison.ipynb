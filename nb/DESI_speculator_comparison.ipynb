{
 "cells": [
  {
   "cell_type": "code",
   "execution_count": 1,
   "metadata": {},
   "outputs": [],
   "source": [
    "import os\n",
    "import pickle\n",
    "import fsps\n",
    "import numpy as np \n",
    "import astropy.units as u\n",
    "from astropy import units as U \n",
    "from astropy.cosmology import Planck13\n",
    "# -- plotting --\n",
    "import matplotlib as mpl \n",
    "import matplotlib.pyplot as plt\n",
    "import scipy.integrate as integrate\n",
    "import scipy.interpolate as interpolate\n",
    "%matplotlib inline"
   ]
  },
  {
   "cell_type": "code",
   "execution_count": 2,
   "metadata": {},
   "outputs": [],
   "source": [
    "dir_dat = '../gqp_mc/dat/'"
   ]
  },
  {
   "cell_type": "code",
   "execution_count": 3,
   "metadata": {},
   "outputs": [],
   "source": [
    "# Interpolator for lookback time\n",
    "z = np.linspace(0, 0.4, 100)\n",
    "t = 13.7 - 13.7*np.array([integrate.quad(lambda x: 1./((1+x)*np.sqrt(0.3*(1+x)**3 + 0.7)), 0, zz)[0] for zz in z])\n",
    "t_universe = interpolate.InterpolatedUnivariateSpline(z, t, k=3)\n",
    "t_universe_min = t_universe(0.4)"
   ]
  },
  {
   "cell_type": "code",
   "execution_count": 4,
   "metadata": {},
   "outputs": [],
   "source": [
    "# read in lookback time bins (binning for SFH)\n",
    "t_lookback = np.loadtxt(dir_dat+'sfh_t_int.txt')"
   ]
  },
  {
   "cell_type": "code",
   "execution_count": 5,
   "metadata": {},
   "outputs": [
    {
     "name": "stdout",
     "output_type": "stream",
     "text": [
      "50 bins\n",
      "SFH basis has 4 components\n",
      "ZH basis has 2 components\n"
     ]
    }
   ],
   "source": [
    "# read in SFH and ZH bases\n",
    "nmf_sfh_basis = np.loadtxt(dir_dat+'NMF_2basis_SFH_components_nowgt_lin_Nc4.txt')\n",
    "nmf_zh_basis = np.loadtxt(dir_dat+'NMF_2basis_Z_components_nowgt_lin_Nc2.txt')\n",
    "Nbins = nmf_sfh_basis.shape[1]\n",
    "Ncomp_sfh = nmf_sfh_basis.shape[0]\n",
    "Ncomp_zh = nmf_zh_basis.shape[0]\n",
    "print(\"%i bins\" % Nbins)\n",
    "print(\"SFH basis has %i components\" % Ncomp_sfh)\n",
    "print(\"ZH basis has %i components\" % Ncomp_zh)\n",
    "\n",
    "# Make interpolation functions for SFH and ZH basis functions\n",
    "sfh_basis = [interpolate.InterpolatedUnivariateSpline(max(t_lookback) - t_lookback, nmf_sfh_basis[i], k = 1) for i in range(Ncomp_sfh)]\n",
    "zh_basis = [interpolate.InterpolatedUnivariateSpline(max(t_lookback) - t_lookback, nmf_zh_basis[i], k = 1) for i in range(Ncomp_zh)]"
   ]
  },
  {
   "cell_type": "code",
   "execution_count": 6,
   "metadata": {},
   "outputs": [],
   "source": [
    "# initalize fsps object\n",
    "ssp = fsps.StellarPopulation(\n",
    "    zcontinuous=1, # SSPs are interpolated to the value of logzsol before the spectra and magnitudes are computed\n",
    "    sfh=0, # single SSP\n",
    "    imf_type=1, # chabrier\n",
    "    dust_type=2 # Calzetti (2000) \n",
    "    )"
   ]
  },
  {
   "cell_type": "code",
   "execution_count": 7,
   "metadata": {},
   "outputs": [
    {
     "name": "stdout",
     "output_type": "stream",
     "text": [
      "b'pdva' isochrone library\n",
      "b'miles' spectral library\n"
     ]
    }
   ],
   "source": [
    "print('%s isochrone library' % ssp.isoc_library)\n",
    "print('%s spectral library' % ssp.spec_library) "
   ]
  },
  {
   "cell_type": "code",
   "execution_count": 8,
   "metadata": {},
   "outputs": [],
   "source": [
    "def sspLum(theta): \n",
    "    ''' FSPS wrapper that deals with NMF SFH and ZH basis and other parameters. \n",
    "    \n",
    "    :param theta: \n",
    "        numpy array that specifies parameters. \n",
    "        Indices 0 to Ncomp_sfh-1 specifies the SFH basis parameters. \n",
    "        Indices Ncomp_sfh to Ncomp_sfh + Ncomp_zh specifies the ZH basis parameters.\n",
    "        Index -1 specifes tau_ISM (dust) \n",
    "        \n",
    "    :return wave_rest\n",
    "        rest-frame wavelength grid provided by FSPS\n",
    "        \n",
    "    :return lum_ssp:\n",
    "        luminosity in uints of Lsun/AA of ssp. This can be converted to observed flux \n",
    "        of units erg/s/cm^2/Angstrom by multiplying x Lsun/(4pi dlum^2)/(1+z)\n",
    "    '''\n",
    "    theta_sfh = theta[:Ncomp_sfh]\n",
    "    theta_zh = theta[Ncomp_sfh:Ncomp_sfh+Ncomp_zh]\n",
    "    theta_dust = theta[-2] # dust parameter\n",
    "    t_univ = theta[-1]\n",
    "    \n",
    "    # Array of times from 0 - t_univ\n",
    "    t = np.linspace(0, t_univ, 50)\n",
    "\n",
    "    # Convert to ages\n",
    "    t_age = max(t) - t + 1e-8\n",
    "\n",
    "    # Compute SFH and ZH\n",
    "    sfh = np.sum(np.array([theta_sfh[i]*sfh_basis[i](t)/np.trapz(sfh_basis[i](t), t) for i in range(Ncomp_sfh)]), axis = 0)\n",
    "    zh = np.sum(np.array([theta_zh[i]*zh_basis[i](t) for i in range(Ncomp_zh)]), axis = 0)\n",
    " \n",
    "    for i, tage, m, z in zip(range(len(t_age)), t_age, sfh, zh): \n",
    "        if m <= 0: # no star formation in this bin \n",
    "            continue\n",
    "        ssp.params['logzsol'] = np.log10(z/0.0190) # log(Z/Zsun)\n",
    "        ssp.params['dust2'] = theta_dust \n",
    "        wave_rest, lum_i = ssp.get_spectrum(tage=tage, peraa=True) # in units of Lsun/AA\n",
    "        if i == 0: \n",
    "            lum_ssp = np.zeros(len(wave_rest))\n",
    "        lum_ssp += m * lum_i \n",
    "    return wave_rest, lum_ssp"
   ]
  },
  {
   "cell_type": "code",
   "execution_count": 9,
   "metadata": {},
   "outputs": [],
   "source": [
    "zh_maxprior = 0.04 \n",
    "zh_max = zh_maxprior/np.max(nmf_zh_basis)"
   ]
  },
  {
   "cell_type": "code",
   "execution_count": 10,
   "metadata": {},
   "outputs": [
    {
     "name": "stdout",
     "output_type": "stream",
     "text": [
      "prior lower bounds:  [0.0e+00 0.0e+00 0.0e+00 0.0e+00 6.9e-05 6.9e-05 0.0e+00 9.5e+00]\n",
      "prior upper bounds:  [5.0000000e+01 5.0000000e+01 5.0000000e+01 5.0000000e+01 7.3282264e-03\n",
      " 7.3282264e-03 3.0000000e+00 1.3700000e+01]\n"
     ]
    }
   ],
   "source": [
    "prior_min = np.array([0, 0, 0, 0, 6.9e-5, 6.9e-5, 0, 9.5]) \n",
    "prior_max = np.array([50., 50., 50., 50., zh_max, zh_max, 3, 13.7])\n",
    "\n",
    "print('prior lower bounds: ', prior_min)\n",
    "print('prior upper bounds: ', prior_max)"
   ]
  },
  {
   "cell_type": "code",
   "execution_count": 11,
   "metadata": {},
   "outputs": [
    {
     "name": "stdout",
     "output_type": "stream",
     "text": [
      "[2.64479537e+01 3.04686519e+01 4.97404584e+01 2.32795191e+01\n",
      " 1.20848357e-03 7.07545470e-03 1.54658786e+00 1.19777479e+01]\n"
     ]
    },
    {
     "name": "stderr",
     "output_type": "stream",
     "text": [
      "/anaconda2/envs/gqp/lib/python3.7/site-packages/ipykernel_launcher.py:35: RuntimeWarning: divide by zero encountered in log10\n"
     ]
    }
   ],
   "source": [
    "# Generate some random SED and sort out wavelength selection\n",
    "theta = np.random.uniform(low=prior_min, high=prior_max)\n",
    "print(theta)\n",
    "wave, spec = sspLum(theta)\n",
    "s = np.where((wave > 2.3e3)*(wave <= 1e4))[0] # wavelength selection"
   ]
  },
  {
   "cell_type": "code",
   "execution_count": 12,
   "metadata": {},
   "outputs": [],
   "source": [
    "# load in the bits required to reconstruct the emulator model: these will be global variables (for now)\n",
    "f = open(dir_dat+'model_summary.pkl', 'rb')\n",
    "W, b, alpha, beta, pcas, pca_mean, pca_std, spec_mean, spec_std, theta_mean, theta_std, wave = pickle.load(f)\n",
    "f.close()\n",
    "\n",
    "# number of network layers\n",
    "n_layers = len(W)\n",
    "\n",
    "# Initial transform applied to input parameters (network is trained over a transformed parameter set)\n",
    "def transform(theta):\n",
    "    transformed_theta = np.copy(theta)\n",
    "    transformed_theta[0] = np.sqrt(theta[0])\n",
    "    transformed_theta[2] = np.sqrt(theta[2])\n",
    "    return transformed_theta\n",
    "\n",
    "# compute spectra given theta\n",
    "def emulator(theta):\n",
    "    \n",
    "    # forward pass through the network\n",
    "    act = []\n",
    "    offset = np.log(np.sum(theta[0:4]))\n",
    "    layers = [(transform(theta) - theta_mean)/theta_std]\n",
    "    for i in range(n_layers-1):\n",
    "        \n",
    "        # linear network operation\n",
    "        act.append(np.dot(layers[-1], W[i]) + b[i])\n",
    "\n",
    "        # pass through activation function\n",
    "        layers.append((beta[i] + (1.-beta[i])*1./(1.+np.exp(-alpha[i]*act[-1])))*act[-1])\n",
    "\n",
    "    # final (linear) layer -> (normalized) PCA coefficients\n",
    "    layers.append(np.dot(layers[-1], W[-1]) + b[-1])\n",
    "\n",
    "    # rescale PCA coefficients, multiply out PCA basis -> normalized spectrum, shift and re-scale spectrum -> output spectrum\n",
    "    return np.dot(layers[-1]*pca_std + pca_mean, pcas)*spec_std + spec_mean + offset"
   ]
  },
  {
   "cell_type": "code",
   "execution_count": 13,
   "metadata": {},
   "outputs": [
    {
     "data": {
      "image/png": "[encoded data removed]",
      "text/plain": [
       "<Figure size 432x288 with 1 Axes>"
      ]
     },
     "metadata": {
      "needs_background": "light"
     },
     "output_type": "display_data"
    }
   ],
   "source": [
    "# plot emulated spectrum\n",
    "spectrum = emulator(theta)\n",
    "plt.plot(wave, spectrum)\n",
    "plt.plot(wave, np.log(spec[s]))\n",
    "plt.show()"
   ]
  },
  {
   "cell_type": "code",
   "execution_count": null,
   "metadata": {},
   "outputs": [],
   "source": []
  }
 ],
 "metadata": {
  "kernelspec": {
   "display_name": "gqp",
   "language": "python",
   "name": "gqp"
  },
  "language_info": {
   "codemirror_mode": {
    "name": "ipython",
    "version": 3
   },
   "file_extension": ".py",
   "mimetype": "text/x-python",
   "name": "python",
   "nbconvert_exporter": "python",
   "pygments_lexer": "ipython3",
   "version": "3.7.3"
  }
 },
 "nbformat": 4,
 "nbformat_minor": 2
}

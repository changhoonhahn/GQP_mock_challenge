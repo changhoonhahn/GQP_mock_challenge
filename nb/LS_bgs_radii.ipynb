{
 "cells": [
  {
   "cell_type": "code",
   "execution_count": 2,
   "id": "f5032b0b-c75d-4430-a2e5-a0fc8469fa08",
   "metadata": {},
   "outputs": [],
   "source": [
    "import os\n",
    "import numpy as np\n",
    "import astropy.table as atable\n",
    "\n",
    "from desitarget.sv1.sv1_targetmask import bgs_mask as sv1_bgs_mask\n",
    "from desitarget.sv3.sv3_targetmask import bgs_mask as sv3_bgs_mask"
   ]
  },
  {
   "cell_type": "code",
   "execution_count": 3,
   "id": "f4049fa6-9692-406b-80ae-f8ad91bbc632",
   "metadata": {},
   "outputs": [],
   "source": [
    "# -- plotting -- \n",
    "import matplotlib as mpl\n",
    "import matplotlib.pyplot as plt\n",
    "mpl.rcParams['text.usetex'] = True\n",
    "mpl.rcParams['font.family'] = 'serif'\n",
    "mpl.rcParams['axes.linewidth'] = 1.5\n",
    "mpl.rcParams['axes.xmargin'] = 1\n",
    "mpl.rcParams['xtick.labelsize'] = 'x-large'\n",
    "mpl.rcParams['xtick.major.size'] = 5\n",
    "mpl.rcParams['xtick.major.width'] = 1.5\n",
    "mpl.rcParams['ytick.labelsize'] = 'x-large'\n",
    "mpl.rcParams['ytick.major.size'] = 5\n",
    "mpl.rcParams['ytick.major.width'] = 1.5\n",
    "mpl.rcParams['legend.frameon'] = False"
   ]
  },
  {
   "cell_type": "code",
   "execution_count": 4,
   "id": "7c6e7722-cf69-4ebd-86dd-0a00703c820c",
   "metadata": {},
   "outputs": [],
   "source": [
    "# load compiled zsuccess rates to file\n",
    "dat_dir = '/global/cscratch1/sd/chahah/bgs-cmxsv/sv-paper/'\n",
    "\n",
    "sv1_gals = atable.Table.read(os.path.join(dat_dir, 'sv1.bgs_exps.efftime160_200.zsuccess.v4.fits'))\n",
    "sv3_gals = atable.Table.read(os.path.join(dat_dir, 'sv3.bgs_exps.efftime160_200.zsuccess.v4.fits'))\n",
    "main_gals = atable.Table.read(os.path.join(dat_dir, 'main.bgs_exps.efftime160_200.zsuccess.v3.fits'))"
   ]
  },
  {
   "cell_type": "code",
   "execution_count": 6,
   "id": "28520bb0-3b1f-4ec8-831a-23a0c2a4c155",
   "metadata": {},
   "outputs": [],
   "source": [
    "sv1_brgt = (sv1_gals['SV1_BGS_TARGET'] & sv1_bgs_mask['BGS_BRIGHT']) != 0 \n",
    "sv1_fain = (sv1_gals['SV1_BGS_TARGET'] & sv1_bgs_mask['BGS_FAINT']) != 0\n",
    "\n",
    "sv3_brgt = (sv3_gals['SV3_BGS_TARGET'] & sv3_bgs_mask['BGS_BRIGHT']) != 0 \n",
    "sv3_fain = (sv3_gals['SV3_BGS_TARGET'] & sv3_bgs_mask['BGS_FAINT']) != 0 "
   ]
  },
  {
   "cell_type": "code",
   "execution_count": 23,
   "id": "161ec997-89fe-4d8e-ad8f-5597bd438efa",
   "metadata": {},
   "outputs": [
    {
     "data": {
      "text/plain": [
       "['DEEP_NUMEXP',\n",
       " 'DEEP_TSNR2_BGS',\n",
       " 'DEEP_EXPTIME',\n",
       " 'TARGETID',\n",
       " 'Z_TRUE',\n",
       " 'DEEP_TRUE',\n",
       " 'CHI2',\n",
       " 'COEFF',\n",
       " 'Z',\n",
       " 'ZERR',\n",
       " 'ZWARN',\n",
       " 'NPIXELS',\n",
       " 'SPECTYPE',\n",
       " 'SUBTYPE',\n",
       " 'NCOEFF',\n",
       " 'DELTACHI2',\n",
       " 'PETAL_LOC',\n",
       " 'DEVICE_LOC',\n",
       " 'LOCATION',\n",
       " 'FIBER',\n",
       " 'COADD_FIBERSTATUS',\n",
       " 'TARGET_RA',\n",
       " 'TARGET_DEC',\n",
       " 'PMRA',\n",
       " 'PMDEC',\n",
       " 'REF_EPOCH',\n",
       " 'LAMBDA_REF',\n",
       " 'FA_TARGET',\n",
       " 'FA_TYPE',\n",
       " 'OBJTYPE',\n",
       " 'FIBERASSIGN_X',\n",
       " 'FIBERASSIGN_Y',\n",
       " 'PRIORITY',\n",
       " 'SUBPRIORITY',\n",
       " 'OBSCONDITIONS',\n",
       " 'RELEASE',\n",
       " 'BRICKID',\n",
       " 'BRICK_OBJID',\n",
       " 'MORPHTYPE',\n",
       " 'FLUX_G',\n",
       " 'FLUX_R',\n",
       " 'FLUX_Z',\n",
       " 'FLUX_IVAR_G',\n",
       " 'FLUX_IVAR_R',\n",
       " 'FLUX_IVAR_Z',\n",
       " 'REF_ID',\n",
       " 'REF_CAT',\n",
       " 'GAIA_PHOT_G_MEAN_MAG',\n",
       " 'GAIA_PHOT_BP_MEAN_MAG',\n",
       " 'GAIA_PHOT_RP_MEAN_MAG',\n",
       " 'PARALLAX',\n",
       " 'BRICKNAME',\n",
       " 'EBV',\n",
       " 'FLUX_W1',\n",
       " 'FLUX_W2',\n",
       " 'FIBERFLUX_G',\n",
       " 'FIBERFLUX_R',\n",
       " 'FIBERFLUX_Z',\n",
       " 'FIBERTOTFLUX_G',\n",
       " 'FIBERTOTFLUX_R',\n",
       " 'FIBERTOTFLUX_Z',\n",
       " 'MASKBITS',\n",
       " 'SERSIC',\n",
       " 'SHAPE_R',\n",
       " 'SHAPE_E1',\n",
       " 'SHAPE_E2',\n",
       " 'PHOTSYS',\n",
       " 'PRIORITY_INIT',\n",
       " 'NUMOBS_INIT',\n",
       " 'SV1_DESI_TARGET',\n",
       " 'SV1_BGS_TARGET',\n",
       " 'SV1_MWS_TARGET',\n",
       " 'DESI_TARGET',\n",
       " 'BGS_TARGET',\n",
       " 'MWS_TARGET',\n",
       " 'PLATE_RA',\n",
       " 'PLATE_DEC',\n",
       " 'TILEID',\n",
       " 'COADD_NUMEXP',\n",
       " 'COADD_EXPTIME',\n",
       " 'COADD_NUMNIGHT',\n",
       " 'COADD_NUMTILE',\n",
       " 'MEAN_DELTA_X',\n",
       " 'RMS_DELTA_X',\n",
       " 'MEAN_DELTA_Y',\n",
       " 'RMS_DELTA_Y',\n",
       " 'MEAN_FIBER_RA',\n",
       " 'STD_FIBER_RA',\n",
       " 'MEAN_FIBER_DEC',\n",
       " 'STD_FIBER_DEC',\n",
       " 'MEAN_PSF_TO_FIBER_SPECFLUX',\n",
       " 'MEAN_FIBER_X',\n",
       " 'MEAN_FIBER_Y',\n",
       " 'TSNR2_GPBDARK_B',\n",
       " 'TSNR2_ELG_B',\n",
       " 'TSNR2_GPBBRIGHT_B',\n",
       " 'TSNR2_LYA_B',\n",
       " 'TSNR2_BGS_B',\n",
       " 'TSNR2_GPBBACKUP_B',\n",
       " 'TSNR2_QSO_B',\n",
       " 'TSNR2_LRG_B',\n",
       " 'TSNR2_GPBDARK_R',\n",
       " 'TSNR2_ELG_R',\n",
       " 'TSNR2_GPBBRIGHT_R',\n",
       " 'TSNR2_LYA_R',\n",
       " 'TSNR2_BGS_R',\n",
       " 'TSNR2_GPBBACKUP_R',\n",
       " 'TSNR2_QSO_R',\n",
       " 'TSNR2_LRG_R',\n",
       " 'TSNR2_GPBDARK_Z',\n",
       " 'TSNR2_ELG_Z',\n",
       " 'TSNR2_GPBBRIGHT_Z',\n",
       " 'TSNR2_LYA_Z',\n",
       " 'TSNR2_BGS_Z',\n",
       " 'TSNR2_GPBBACKUP_Z',\n",
       " 'TSNR2_QSO_Z',\n",
       " 'TSNR2_LRG_Z',\n",
       " 'TSNR2_GPBDARK',\n",
       " 'TSNR2_ELG',\n",
       " 'TSNR2_GPBBRIGHT',\n",
       " 'TSNR2_LYA',\n",
       " 'TSNR2_BGS',\n",
       " 'TSNR2_GPBBACKUP',\n",
       " 'TSNR2_QSO',\n",
       " 'TSNR2_LRG',\n",
       " 'ZSUCCESS',\n",
       " 'RR_ZWARN',\n",
       " 'RR_DELTACHI2',\n",
       " 'RR_SPECTYPE',\n",
       " 'RR_ZERR',\n",
       " 'RR_Z',\n",
       " 'RR_Z_DEEP',\n",
       " 'EXPID',\n",
       " 'GMAG_DRED',\n",
       " 'RMAG_DRED',\n",
       " 'FIBER_RMAG_DRED',\n",
       " 'ZMAG_DRED',\n",
       " 'W1MAG_DRED',\n",
       " 'W2MAG_DRED',\n",
       " 'FAINT_FIBCOL',\n",
       " 'EFFTIME_SPEC',\n",
       " 'SURVEY_SPEED',\n",
       " 'EFFTIME_ETC',\n",
       " 'ETC_SURVEY_SPEED',\n",
       " 'FLUX_IVAR_W1',\n",
       " 'FLUX_IVAR_W2',\n",
       " 'SV1_SCND_TARGET',\n",
       " 'EFFTIME_TSNR2_BGS',\n",
       " 'DEEP_EFFTIME_TSNR2_BGS']"
      ]
     },
     "execution_count": 23,
     "metadata": {},
     "output_type": "execute_result"
    }
   ],
   "source": [
    "sv1_gals.colnames"
   ]
  },
  {
   "cell_type": "code",
   "execution_count": 15,
   "id": "b21219ee-9ecd-43b4-8d95-8ab12adb2c13",
   "metadata": {},
   "outputs": [
    {
     "data": {
      "text/plain": [
       "(0.0, 10.0)"
      ]
     },
     "execution_count": 15,
     "metadata": {},
     "output_type": "execute_result"
    },
    {
     "data": {
      "image/png": "[encoded data removed]",
      "text/plain": [
       "<Figure size 432x288 with 1 Axes>"
      ]
     },
     "metadata": {
      "needs_background": "light"
     },
     "output_type": "display_data"
    }
   ],
   "source": [
    "plt.hist(sv1_gals['SHAPE_R'], range=(0., 10), bins=40)\n",
    "plt.hist(sv1_gals['SHAPE_R'][sv1_brgt], range=(0., 10), bins=40)\n",
    "plt.hist(sv1_gals['SHAPE_R'][sv1_fain], range=(0., 10), bins=40)\n",
    "plt.xlabel('$r$ [arcsec]', fontsize=25) #Half-light radius of galaxy model for galaxy type type (>0)\n",
    "plt.xlim(0., 10)"
   ]
  },
  {
   "cell_type": "code",
   "execution_count": 16,
   "id": "d8e76e34-2877-48d1-8991-6f6909a800ec",
   "metadata": {},
   "outputs": [
    {
     "data": {
      "text/plain": [
       "(0.0, 10.0)"
      ]
     },
     "execution_count": 16,
     "metadata": {},
     "output_type": "execute_result"
    },
    {
     "data": {
      "image/png": "[encoded data removed]",
      "text/plain": [
       "<Figure size 432x288 with 1 Axes>"
      ]
     },
     "metadata": {
      "needs_background": "light"
     },
     "output_type": "display_data"
    }
   ],
   "source": [
    "plt.hist(sv3_gals['SHAPE_R'], range=(0., 10), bins=40)\n",
    "plt.hist(sv3_gals['SHAPE_R'][sv3_brgt], range=(0., 10), bins=40)\n",
    "plt.hist(sv3_gals['SHAPE_R'][sv3_fain], range=(0., 10), bins=40)\n",
    "plt.xlabel('$r$ [arcsec]', fontsize=25) #Half-light radius of galaxy model for galaxy type type (>0)\n",
    "plt.xlim(0., 10)"
   ]
  },
  {
   "cell_type": "code",
   "execution_count": 19,
   "id": "0c68f42f-8aaa-44f0-8268-13c123204d96",
   "metadata": {},
   "outputs": [
    {
     "name": "stdout",
     "output_type": "stream",
     "text": [
      "10648 of 49556 (0.21) SV1 BRIGHT have r < 1''\n",
      "17820 of 37982 (0.47) SV1 FAINT have r < 1''\n",
      "28468 of 87538 (0.33) SV1 ALL have r < 1''\n"
     ]
    }
   ],
   "source": [
    "print(\"%i of %i (%.2f) SV1 BRIGHT have r < 1''\" % (np.sum(sv1_brgt & (sv1_gals['SHAPE_R'] < 1.)), np.sum(sv1_brgt), np.sum(sv1_brgt & (sv1_gals['SHAPE_R'] < 1.)) / np.sum(sv1_brgt)))\n",
    "print(\"%i of %i (%.2f) SV1 FAINT have r < 1''\" % (np.sum(sv1_fain & (sv1_gals['SHAPE_R'] < 1.)), np.sum(sv1_fain), np.sum(sv1_fain & (sv1_gals['SHAPE_R'] < 1.)) / np.sum(sv1_fain)))\n",
    "\n",
    "print(\"%i of %i (%.2f) SV1 ALL have r < 1''\" % (np.sum((sv1_brgt | sv1_fain) & (sv1_gals['SHAPE_R'] < 1.)), \n",
    "                                                np.sum(sv1_brgt | sv1_fain), \n",
    "                                                np.sum((sv1_brgt | sv1_fain) & (sv1_gals['SHAPE_R'] < 1.)) / np.sum(sv1_brgt | sv1_fain)))"
   ]
  },
  {
   "cell_type": "code",
   "execution_count": 20,
   "id": "bc28e283-be1e-44a6-b9f3-ff3a07c1a775",
   "metadata": {},
   "outputs": [
    {
     "name": "stdout",
     "output_type": "stream",
     "text": [
      "25280 of 113135 (0.22) SV3 BRIGHT have r < 1''\n",
      "57506 of 91356 (0.63) SV3 FAINT have r < 1''\n",
      "82786 of 204491 (0.40) SV3 ALL have r < 1''\n"
     ]
    }
   ],
   "source": [
    "print(\"%i of %i (%.2f) SV3 BRIGHT have r < 1''\" % (np.sum(sv3_brgt & (sv3_gals['SHAPE_R'] < 1.)), np.sum(sv3_brgt), np.sum(sv3_brgt & (sv3_gals['SHAPE_R'] < 1.)) / np.sum(sv3_brgt)))\n",
    "print(\"%i of %i (%.2f) SV3 FAINT have r < 1''\" % (np.sum(sv3_fain & (sv3_gals['SHAPE_R'] < 1.)), np.sum(sv3_fain), np.sum(sv3_fain & (sv3_gals['SHAPE_R'] < 1.)) / np.sum(sv3_fain)))\n",
    "print(\"%i of %i (%.2f) SV3 ALL have r < 1''\" % (np.sum((sv3_brgt | sv3_fain) & (sv3_gals['SHAPE_R'] < 1.)), \n",
    "                                                np.sum(sv3_brgt | sv3_fain), \n",
    "                                                np.sum((sv3_brgt | sv3_fain) & (sv3_gals['SHAPE_R'] < 1.)) / np.sum(sv3_brgt | sv3_fain))\n",
    "     )"
   ]
  },
  {
   "cell_type": "code",
   "execution_count": 21,
   "id": "39f33b09-43c1-447e-9809-b5355b781fe4",
   "metadata": {},
   "outputs": [
    {
     "name": "stdout",
     "output_type": "stream",
     "text": [
      "76201 of 113135 (0.67) SV3 BRIGHT have r < 2''\n",
      "89362 of 91356 (0.98) SV3 FAINT have r < 2''\n",
      "165563 of 204491 (0.81) SV3 ALL have r < 2''\n"
     ]
    }
   ],
   "source": [
    "print(\"%i of %i (%.2f) SV3 BRIGHT have r < 2''\" % (np.sum(sv3_brgt & (sv3_gals['SHAPE_R'] < 2.)), np.sum(sv3_brgt), np.sum(sv3_brgt & (sv3_gals['SHAPE_R'] < 2.)) / np.sum(sv3_brgt)))\n",
    "print(\"%i of %i (%.2f) SV3 FAINT have r < 2''\" % (np.sum(sv3_fain & (sv3_gals['SHAPE_R'] < 2.)), np.sum(sv3_fain), np.sum(sv3_fain & (sv3_gals['SHAPE_R'] < 2.)) / np.sum(sv3_fain)))\n",
    "print(\"%i of %i (%.2f) SV3 ALL have r < 2''\" % (np.sum((sv3_brgt | sv3_fain) & (sv3_gals['SHAPE_R'] < 2.)), \n",
    "                                                np.sum(sv3_brgt | sv3_fain), \n",
    "                                                np.sum((sv3_brgt | sv3_fain) & (sv3_gals['SHAPE_R'] < 2.)) / np.sum(sv3_brgt | sv3_fain))\n",
    "     )"
   ]
  },
  {
   "cell_type": "code",
   "execution_count": null,
   "id": "3a598318-6b57-42cd-a495-80a22346cb2c",
   "metadata": {},
   "outputs": [],
   "source": []
  }
 ],
 "metadata": {
  "kernelspec": {
   "display_name": "DESI master",
   "language": "python",
   "name": "desi-master"
  },
  "language_info": {
   "codemirror_mode": {
    "name": "ipython",
    "version": 3
   },
   "file_extension": ".py",
   "mimetype": "text/x-python",
   "name": "python",
   "nbconvert_exporter": "python",
   "pygments_lexer": "ipython3",
   "version": "3.8.3"
  }
 },
 "nbformat": 4,
 "nbformat_minor": 5
}

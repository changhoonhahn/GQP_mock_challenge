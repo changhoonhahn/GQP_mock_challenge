{
 "cells": [
  {
   "cell_type": "code",
   "execution_count": 1,
   "id": "5c960630-e443-4e2b-994a-c1a7339e79d5",
   "metadata": {},
   "outputs": [],
   "source": [
    "import os\n",
    "import h5py\n",
    "import numpy as np"
   ]
  },
  {
   "cell_type": "code",
   "execution_count": 2,
   "id": "882e3d25-a589-484e-b1b6-d97c6ffecb19",
   "metadata": {},
   "outputs": [],
   "source": [
    "dat_dir = '/global/cscratch1/sd/chahah/gqp_mc/tng/'"
   ]
  },
  {
   "cell_type": "code",
   "execution_count": 3,
   "id": "65bcdf50-3cf7-4bf6-969e-43906b403e63",
   "metadata": {},
   "outputs": [],
   "source": [
    "_photo = h5py.File(os.path.join(dat_dir, 'Subhalo_StellarPhot_p07c_cf00dust_res_conv_ns1_rad30pkpc_091.hdf5'), 'r')\n",
    "# galaxies, [u, g, r, i, z, _, _, _], 12 projections\n",
    "photo = _photo['Subhalo_StellarPhot_p07c_cf00dust_res_conv_ns1_rad30pkpc'][...]"
   ]
  },
  {
   "cell_type": "code",
   "execution_count": null,
   "id": "16568f5b-2770-4f84-ab8d-14dafab5d38e",
   "metadata": {},
   "outputs": [],
   "source": [
    "Mg = photo[:,1,0]\n",
    "Mr = photo[:,2,0]"
   ]
  },
  {
   "cell_type": "code",
   "execution_count": 4,
   "id": "4d88a9ca-375d-49a5-ae98-72cdb5f5e673",
   "metadata": {},
   "outputs": [
    {
     "name": "stderr",
     "output_type": "stream",
     "text": [
      "/global/homes/c/chahah/.conda/envs/gqp/lib/python3.7/site-packages/ipykernel_launcher.py:8: RuntimeWarning: divide by zero encountered in log10\n",
      "  \n"
     ]
    }
   ],
   "source": [
    "mstar = []\n",
    "for i in range(600): \n",
    "    _tng = h5py.File(os.path.join(dat_dir, 'fof_subhalo_tab_091.%i.hdf5' %i), 'r')\n",
    "    try: \n",
    "        mstar.append(_tng['Subhalo']['SubhaloMassType'][...][:,4])\n",
    "    except KeyError: \n",
    "        continue\n",
    "logmstar = np.log10(np.concatenate(mstar)) + 10 "
   ]
  },
  {
   "cell_type": "code",
   "execution_count": 5,
   "id": "1006272c-6360-4466-b26d-4555f52c9592",
   "metadata": {},
   "outputs": [],
   "source": [
    "assert len(logmstar) == photo.shape[0]"
   ]
  },
  {
   "cell_type": "markdown",
   "id": "82797a3a-c8f3-47d7-84a8-f30a8f547891",
   "metadata": {},
   "source": [
    "Lets k-correct it to get $r$ band apparent agnitude: \n",
    "$$M_r -5 \\log_{10} h = r - 5 \\log_{10}(d_L(z)/10{\\rm pc}) - 25 - ^{0.1}k(z)$$\n",
    "\n",
    "* similar to k-correct given in McNaught-Roberts+(2014) \n",
    "$$^{0.1}k(z) = \\sum\\limits_{i=0}^4 A_i ( z - 0.1)^{4-i}$$\n",
    "\n",
    "checkout Table 1 of Smith+(2017): "
   ]
  },
  {
   "cell_type": "code",
   "execution_count": 7,
   "id": "438370e9-f6dd-44e8-ad56-2a35ef4585dc",
   "metadata": {},
   "outputs": [],
   "source": [
    "def assign_Ai(g_r): \n",
    "    ''' given (M_g - M_r)0.1, return k-correct polynomial coefficients. \n",
    "    '''\n",
    "    grs = np.array([0.131, 0.298, 0.443, 0.603, 0.785, 0.933, 1.067])\n",
    "    A0s = np.array([-45.33, -20.08, -10.98, -3.428, 6.717, 16.76, 20.30])\n",
    "    A1s = np.array([35.28, 20.14, 14.36, 9.478, 3.250, -2.514, -4.189])\n",
    "    A2s = np.array([-6.604, -4.620, -3.676, -2.703, -1.176, 0.3513, 0.5619])\n",
    "    A3s = np.array([-0.4805, -0.04824, 0.3395, 0.7646, 1.113, 1.307, 1.494])\n",
    "    A4 = -0.103\n",
    "    \n",
    "    if len(g_r.shape) <1: \n",
    "        i = np.argmin(np.abs(g_r - grs))\n",
    "        return np.array([A0s[i], A1s[i], A2s[i], A3s[i], A4])\n",
    "    else: \n",
    "        i = np.argmin(np.abs(g_r[:,None] - np.array(grs)[None,:]), axis=1)\n",
    "        return np.vstack([A0s[i], A1s[i], A2s[i], A3s[i], np.repeat(A4, len(g_r))]).T"
   ]
  },
  {
   "cell_type": "code",
   "execution_count": 8,
   "id": "1e4dd967-2007-444b-8a6e-b66a58e06bca",
   "metadata": {},
   "outputs": [
    {
     "name": "stdout",
     "output_type": "stream",
     "text": [
      "2000191 of 14746091 have finite Mg and Mr\n"
     ]
    }
   ],
   "source": [
    "not_nan = (np.isfinite(Mg) & np.isfinite(Mr))\n",
    "print('%i of %i have finite Mg and Mr' % (np.sum(not_nan), len(not_nan)))"
   ]
  },
  {
   "cell_type": "code",
   "execution_count": 9,
   "id": "ae35e057-6513-4fbb-8177-2ab88cc06acf",
   "metadata": {},
   "outputs": [],
   "source": [
    "As = assign_Ai(Mg[not_nan] - Mr[not_nan])"
   ]
  },
  {
   "cell_type": "code",
   "execution_count": 10,
   "id": "b7ee1a70-1eb0-4258-a6ca-7a5168100549",
   "metadata": {},
   "outputs": [],
   "source": [
    "redshifts = np.random.uniform(0., 0.6, np.sum(not_nan))"
   ]
  },
  {
   "cell_type": "code",
   "execution_count": 11,
   "id": "bdc58f69-6aaf-4195-a973-58dc19ddc502",
   "metadata": {},
   "outputs": [],
   "source": [
    "k_0p1 = (As[:,0] * (redshifts - 0.1)**4 + \n",
    "         As[:,1] * (redshifts - 0.1)**3 + \n",
    "         As[:,2] * (redshifts - 0.1)**2 + \n",
    "         As[:,3] * (redshifts - 0.1)**1 + As[:,3])"
   ]
  },
  {
   "cell_type": "code",
   "execution_count": 12,
   "id": "4feb0250-ab2e-48e4-a063-7b4ff9667b9e",
   "metadata": {},
   "outputs": [],
   "source": [
    "import astropy.units as u\n",
    "from astropy.cosmology import Planck15"
   ]
  },
  {
   "cell_type": "code",
   "execution_count": 13,
   "id": "2e5146ae-b8b7-46d3-8457-7e8736076718",
   "metadata": {},
   "outputs": [],
   "source": [
    "dm = 5. * np.log10(Planck15.luminosity_distance(redshifts) / (10 * u.parsec))"
   ]
  },
  {
   "cell_type": "code",
   "execution_count": 14,
   "id": "47e05226-f4b0-46d2-93c7-8962aad1eb8b",
   "metadata": {},
   "outputs": [],
   "source": [
    "r = Mr[not_nan] - 5 * np.log10(Planck15.h) + dm - k_0p1"
   ]
  },
  {
   "cell_type": "code",
   "execution_count": 15,
   "id": "4caaa0a8-3f38-4de8-9149-faa8282e5289",
   "metadata": {},
   "outputs": [
    {
     "data": {
      "text/plain": [
       "<matplotlib.collections.PathCollection at 0x2aac514386d0>"
      ]
     },
     "execution_count": 15,
     "metadata": {},
     "output_type": "execute_result"
    },
    {
     "data": {
      "image/png": "[encoded data removed]",
      "text/plain": [
       "<Figure size 432x288 with 1 Axes>"
      ]
     },
     "metadata": {
      "needs_background": "light"
     },
     "output_type": "display_data"
    }
   ],
   "source": [
    "import matplotlib.pyplot as plt\n",
    "plt.scatter(redshifts, r)"
   ]
  },
  {
   "cell_type": "code",
   "execution_count": 18,
   "id": "71eef15a-e27a-430b-9ae2-91136536a9b5",
   "metadata": {},
   "outputs": [],
   "source": [
    "logMstar = logmstar[not_nan]"
   ]
  },
  {
   "cell_type": "code",
   "execution_count": 20,
   "id": "7c3d3c69-d983-41bf-b939-0b3eb99cc069",
   "metadata": {},
   "outputs": [],
   "source": [
    "bgs_bright = (r < 19.5) \n",
    "bgs_faint = (r < 20.0)"
   ]
  },
  {
   "cell_type": "code",
   "execution_count": 23,
   "id": "a274acb1-2e21-4da9-966b-23b8703d13fb",
   "metadata": {},
   "outputs": [
    {
     "data": {
      "text/plain": [
       "<matplotlib.collections.PathCollection at 0x2aac54567d10>"
      ]
     },
     "execution_count": 23,
     "metadata": {},
     "output_type": "execute_result"
    },
    {
     "data": {
      "image/png": "[encoded data removed]",
      "text/plain": [
       "<Figure size 432x288 with 1 Axes>"
      ]
     },
     "metadata": {
      "needs_background": "light"
     },
     "output_type": "display_data"
    }
   ],
   "source": [
    "plt.scatter(redshifts[bgs_faint], logMstar[bgs_faint], s=1)\n",
    "plt.scatter(redshifts[bgs_bright], logMstar[bgs_bright], s=1)"
   ]
  },
  {
   "cell_type": "code",
   "execution_count": 27,
   "id": "76d10b4f-556c-42a5-962b-ae65bda10436",
   "metadata": {},
   "outputs": [],
   "source": [
    "np.save(os.path.join(dat_dir, 'tng.logm_r_z.npy'), np.vstack([logMstar, r.value, redshifts]).T)"
   ]
  },
  {
   "cell_type": "code",
   "execution_count": null,
   "id": "9a0eade6-a3f5-4af5-a9bd-10603d74a883",
   "metadata": {},
   "outputs": [],
   "source": []
  }
 ],
 "metadata": {
  "kernelspec": {
   "display_name": "gqp",
   "language": "python",
   "name": "gqp"
  },
  "language_info": {
   "codemirror_mode": {
    "name": "ipython",
    "version": 3
   },
   "file_extension": ".py",
   "mimetype": "text/x-python",
   "name": "python",
   "nbconvert_exporter": "python",
   "pygments_lexer": "ipython3",
   "version": "3.7.4"
  }
 },
 "nbformat": 4,
 "nbformat_minor": 5
}

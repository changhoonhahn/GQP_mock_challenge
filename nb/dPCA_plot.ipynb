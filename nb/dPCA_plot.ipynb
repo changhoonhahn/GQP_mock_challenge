{
  "nbformat": 4,
  "nbformat_minor": 0,
  "metadata": {
    "accelerator": "GPU",
    "colab": {
      "name": "dPCA_plot",
      "provenance": [],
      "collapsed_sections": [],
      "machine_shape": "hm",
      "include_colab_link": true
    },
    "kernelspec": {
      "display_name": "Python 3",
      "name": "python3"
    }
  },
  "cells": [
    {
      "cell_type": "markdown",
      "metadata": {
        "id": "view-in-github",
        "colab_type": "text"
      },
      "source": [
        "<a href=\"https://colab.research.google.com/github/changhoonhahn/gqp_mc/blob/master/nb/dPCA_plot.ipynb\" target=\"_parent\"><img src=\"https://colab.research.google.com/assets/colab-badge.svg\" alt=\"Open In Colab\"/></a>"
      ]
    },
    {
      "cell_type": "code",
      "metadata": {
        "id": "s_IHasbaJ3bu",
        "outputId": "201eaec6-ec2b-4a0a-ba14-f781f28c8ef1",
        "colab": {
          "base_uri": "https://localhost:8080/",
          "height": 34
        }
      },
      "source": [
        "from google.colab import drive\n",
        "drive.mount('/content/drive')"
      ],
      "execution_count": null,
      "outputs": [
        {
          "output_type": "stream",
          "text": [
            "Mounted at /content/drive\n"
          ],
          "name": "stdout"
        }
      ]
    },
    {
      "cell_type": "code",
      "metadata": {
        "id": "mxG99o_9J7nF",
        "outputId": "81128d43-27c4-44b8-a387-94dcc9c42cb0",
        "colab": {
          "base_uri": "https://localhost:8080/",
          "height": 34
        }
      },
      "source": [
        "%cd /content/drive/My\\ Drive/speculator_fork"
      ],
      "execution_count": null,
      "outputs": [
        {
          "output_type": "stream",
          "text": [
            "/content/drive/.shortcut-targets-by-id/1mXOA5v3haTos5p9R5pMbAORSsvd9WFLa/speculator_fork\n"
          ],
          "name": "stdout"
        }
      ]
    },
    {
      "cell_type": "code",
      "metadata": {
        "id": "7XMBUjiqKNOy"
      },
      "source": [
        "import os \n",
        "import pickle\n",
        "import numpy as np\n",
        "import tensorflow as tf\n",
        "import matplotlib.pyplot as plt\n",
        "import h5py\n",
        "import seaborn as sns\n",
        "from speculator import SpectrumPCA\n",
        "from speculator import Speculator\n",
        "sns.set_theme(context = 'talk', style = 'ticks')\n",
        "from tqdm import tqdm"
      ],
      "execution_count": null,
      "outputs": []
    },
    {
      "cell_type": "code",
      "metadata": {
        "id": "QgqfTEkaEsl5"
      },
      "source": [
        "def frac_plot(n_pcas,dust,batches,jump=1,save=False):\n",
        "    '''\n",
        "    ----------------------------------------------------------------------\n",
        "    parameter | n_pcas  | number of PCA components\n",
        "    parameter | dust    | dust model\n",
        "    parameter | batches | number of batches\n",
        "    parameter | jump    | step size when interating over the samples \n",
        "    parameter | save    | if true, save the plot\n",
        "    ----------------------------------------------------------------------\n",
        "    '''\n",
        "\n",
        "    if dust == 'simpledust':\n",
        "        n_param = 8\n",
        "    elif dust == 'complexdust':\n",
        "        n_param = 10\n",
        "    else:\n",
        "        raise ValueError('dust should be either simpledust or complexdust')\n",
        "    \n",
        "    wave = np.load('wave_fsps.npy')\n",
        "    n_wave  = len(wave)\n",
        "    n_batch = int(batches.split('_')[1])+1\n",
        "    theta_test = np.load(f'DESI_{dust}.theta_test.npy')\n",
        "    num_sample = theta_test.shape[0]\n",
        "   \n",
        "    '''\n",
        "    ----------------------------------------------------------------------\n",
        "    Load Speculator and predict PCA coefficients\n",
        "    ----------------------------------------------------------------------\n",
        "    '''\n",
        "    speculator = Speculator(restore=True, restore_filename=f'_james_DESI_{dust}_model.{batches}.pca{n_pcas}.log')\n",
        "    spec_pca = speculator.call(theta_test.astype(np.float32))\n",
        "\n",
        "\n",
        "    '''\n",
        "    ----------------------------------------------------------------------\n",
        "    Compute PCA coefficients\n",
        "    ----------------------------------------------------------------------\n",
        "    '''\n",
        "    print('Training PCA bases') \n",
        "    PCABasis = SpectrumPCA(\n",
        "            n_parameters=n_param,       # number of parameters\n",
        "            n_wavelengths=n_wave,       # number of wavelength values\n",
        "            n_pcas=n_pcas,              # number of pca coefficients to include in the basis \n",
        "            spectrum_filenames=[f'DESI_{dust}.logspectrum_fsps_test.npy'],  # list of filenames containing the (un-normalized) log spectra for training the PCA\n",
        "            parameter_filenames=[f'DESI_{dust}.theta_test.npy'], # list of filenames containing the corresponding parameter values\n",
        "            parameter_selection=None) # pass an optional function that takes in parameter vector(s) and returns True/False for any extra parameter cuts we want to impose on the training sample (eg we may want to restrict the parameter ranges)\n",
        "    if n_batch < 200:\n",
        "        PCABasis._load_from_file(f'DESI_{dust}.{batches}.seed0.pca{n_pcas}.hdf5')\n",
        "    else:\n",
        "        PCABasis._load_from_file(f'DESI_{dust}.0_199.seed0.pca{n_pcas}.hdf5')\n",
        "\n",
        "    spectra = np.load(f'DESI_{dust}.logspectrum_fsps_test.npy')\n",
        "    PCABasis.compute_spectrum_parameters_shift_and_scale()\n",
        "    normalized_spectra = (spectra - PCABasis.spectrum_shift)/PCABasis.spectrum_scale\n",
        "    fit = PCABasis.PCA.fit(normalized_spectra)\n",
        "    true_pca = PCABasis.PCA.transform(normalized_spectra)\n",
        "    \n",
        "    \n",
        "    '''\n",
        "    ----------------------------------------------------------------------\n",
        "    Compute fractional error\n",
        "    ----------------------------------------------------------------------\n",
        "    '''\n",
        "    frac_err = []\n",
        "    for n in tqdm(range(num_sample//jump)):\n",
        "        frac_err.append((spec_pca[n]-true_pca[n])/true_pca[n])\n",
        "\n",
        "    lll = np.percentile(frac_err, 0.1, axis=0)\n",
        "    hhh = np.percentile(frac_err, 99.9, axis=0)\n",
        "    ll = np.percentile(frac_err, 1, axis=0)\n",
        "    hh = np.percentile(frac_err, 99, axis=0)\n",
        "    h = np.percentile(frac_err, 95, axis=0)\n",
        "    l = np.percentile(frac_err, 5, axis=0)\n",
        "    \n",
        "    '''\n",
        "    ----------------------------------------------------------------------\n",
        "    Plot\n",
        "    ----------------------------------------------------------------------\n",
        "    '''\n",
        "    fig, axs = plt.subplots(1,2,figsize=(40,10), sharex=True)\n",
        "    plt.subplots_adjust(wspace=.08)\n",
        "    x= np.arange(n_pcas)+1\n",
        "\n",
        "    axs[0].bar(x,lll, color = 'C0', alpha = 0.2, label ='99.9%')\n",
        "    axs[0].bar(x,hhh, color = 'C0', alpha = 0.2)\n",
        "    axs[0].bar(x,ll, color = 'C0', alpha = 0.2)\n",
        "    axs[0].bar(x,hh, color = 'C0', alpha = 0.2, label = '99%')\n",
        "    axs[0].bar(x,l, color = 'C0', alpha = 0.4)\n",
        "    axs[0].bar(x,h, color = 'C0', alpha = 0.4, label = '95%')\n",
        "\n",
        "    axs[1].bar(x,lll, color = 'C0', alpha = 0.2, label ='99.9%')\n",
        "    axs[1].bar(x,hhh, color = 'C0', alpha = 0.2)\n",
        "    axs[1].bar(x,ll, color = 'C0', alpha = 0.2)\n",
        "    axs[1].bar(x,hh, color = 'C0', alpha = 0.2, label = '99%')\n",
        "    axs[1].bar(x,l, color = 'C0', alpha = 0.4)\n",
        "    axs[1].bar(x,h, color = 'C0', alpha = 0.4, label = '95%')\n",
        "\n",
        "    axs[0].axhline(0, ls = '--', lw = 1, c ='k')\n",
        "    axs[1].axhline(0, ls = '--', lw = 1, c ='k')\n",
        "\n",
        "    axs[0].set_ylim(-50,50)\n",
        "    axs[0].set_xticks(x)\n",
        "    axs[0].set_xticklabels((x).astype(str))\n",
        "\n",
        "    ax= fig.add_axes([.95,0,0,0.88],)\n",
        "    ax.bar([1,1],[1,1], color = 'C0', alpha = 0.6, label = '95%')\n",
        "    ax.bar([1,1],[1,1], color = 'C0', alpha = 0.4, label = '99%')\n",
        "    ax.bar([1,1],[1,1], color = 'C0', alpha = 0.2, label = '99.9%')\n",
        "    ax.axis('off')\n",
        "    ax.set_yticks([])\n",
        "    ax.set_xticks([])\n",
        "    ax.legend()\n",
        "\n",
        "    fig.suptitle('PCA coefficent fractional error\\n%s | $N_{PCA}=$%i | $N_{Batch}=$%i'%(dust,n_pcas,n_batch))\n",
        "    axs[0].set_ylabel('Fractional error')\n",
        "    axs[0].set_xlabel('PCA coefficient index')\n",
        "    axs[1].set_xlabel('PCA coefficient index')\n",
        "\n",
        "    if save:\n",
        "        fig.savefig(f'{dust}.pca_{n_pcas}.batch_{batches}.dfrac.pdf', format = 'pdf', bbox_inches='tight')\n",
        "    plt.show()\n",
        "    plt.close()\n",
        "\n",
        "    return None\n"
      ],
      "execution_count": 35,
      "outputs": []
    },
    {
      "cell_type": "code",
      "metadata": {
        "id": "ABhkMcdmJq4K"
      },
      "source": [
        "# frac_plot(20,'simpledust','0_99',save=False)\n",
        "# frac_plot(30,'simpledust','0_99',save=True)\n",
        "# frac_plot(40,'simpledust','0_99',save=True)"
      ],
      "execution_count": 36,
      "outputs": []
    },
    {
      "cell_type": "code",
      "metadata": {
        "id": "k9tDDSPjLWcZ"
      },
      "source": [
        "# frac_plot(20,'simpledust','0_199',save=True)\n",
        "# frac_plot(30,'simpledust','0_199',save=True)\n",
        "# frac_plot(40,'simpledust','0_199',save=True)"
      ],
      "execution_count": 37,
      "outputs": []
    },
    {
      "cell_type": "code",
      "metadata": {
        "id": "aUhsidUHM0X2"
      },
      "source": [
        "# frac_plot(30,'complexdust','0_99',save=True)\n",
        "# frac_plot(40,'complexdust','0_99',save=True)\n",
        "# frac_plot(50,'complexdust','0_99',save=True)\n",
        "# frac_plot(60,'complexdust','0_99',save=True)"
      ],
      "execution_count": 38,
      "outputs": []
    },
    {
      "cell_type": "code",
      "metadata": {
        "id": "7lvMoj9rNJNY",
        "outputId": "2be9c99c-83e3-4d30-fd74-ea08f40daee0",
        "colab": {
          "base_uri": "https://localhost:8080/",
          "height": 88
        }
      },
      "source": [
        "frac_plot(30,'complexdust','0_299',save=True)"
      ],
      "execution_count": null,
      "outputs": [
        {
          "output_type": "stream",
          "text": [
            "WARNING:tensorflow:8 out of the last 8 calls to <function Speculator.call at 0x7fc021c53d08> triggered tf.function retracing. Tracing is expensive and the excessive number of tracings could be due to (1) creating @tf.function repeatedly in a loop, (2) passing tensors with different shapes, (3) passing Python objects instead of tensors. For (1), please define your @tf.function outside of the loop. For (2), @tf.function has experimental_relax_shapes=True option that relaxes argument shapes that can avoid unnecessary retracing. For (3), please refer to https://www.tensorflow.org/tutorials/customization/performance#python_or_tensor_args and https://www.tensorflow.org/api_docs/python/tf/function for  more details.\n",
            "Training PCA bases\n"
          ],
          "name": "stdout"
        },
        {
          "output_type": "stream",
          "text": [
            "100%|██████████| 10000/10000 [00:06<00:00, 1493.56it/s]\n"
          ],
          "name": "stderr"
        }
      ]
    },
    {
      "cell_type": "code",
      "metadata": {
        "id": "duC8NdIDIC-3"
      },
      "source": [
        ""
      ],
      "execution_count": null,
      "outputs": []
    }
  ]
}
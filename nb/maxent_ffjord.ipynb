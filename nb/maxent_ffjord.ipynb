{
  "nbformat": 4,
  "nbformat_minor": 0,
  "metadata": {
    "colab": {
      "name": "maxent_ffjord.ipynb",
      "provenance": [],
      "authorship_tag": "ABX9TyNfE/xV/aaOBLt9HD2USXbM",
      "include_colab_link": true
    },
    "kernelspec": {
      "name": "python3",
      "display_name": "Python 3"
    },
    "accelerator": "GPU"
  },
  "cells": [
    {
      "cell_type": "markdown",
      "metadata": {
        "id": "view-in-github",
        "colab_type": "text"
      },
      "source": [
        "<a href=\"https://colab.research.google.com/github/changhoonhahn/gqp_mc/blob/master/nb/maxent_ffjord.ipynb\" target=\"_parent\"><img src=\"https://colab.research.google.com/assets/colab-badge.svg\" alt=\"Open In Colab\"/></a>"
      ]
    },
    {
      "cell_type": "code",
      "metadata": {
        "id": "gSp7CzrgJSDV",
        "outputId": "b884d357-03fd-49fd-c1a5-9989384d862a",
        "colab": {
          "base_uri": "https://localhost:8080/",
          "height": 54
        }
      },
      "source": [
        "from google.colab import drive\n",
        "drive.mount('/content/drive')"
      ],
      "execution_count": 1,
      "outputs": [
        {
          "output_type": "stream",
          "text": [
            "Drive already mounted at /content/drive; to attempt to forcibly remount, call drive.mount(\"/content/drive\", force_remount=True).\n"
          ],
          "name": "stdout"
        }
      ]
    },
    {
      "cell_type": "code",
      "metadata": {
        "id": "GQOqHCcCJUAk",
        "outputId": "1f72faa4-815a-460a-f266-fd433d550307",
        "colab": {
          "base_uri": "https://localhost:8080/",
          "height": 34
        }
      },
      "source": [
        "%cd /content/drive/My\\ Drive/xd_vs_flow"
      ],
      "execution_count": 2,
      "outputs": [
        {
          "output_type": "stream",
          "text": [
            "/content/drive/My Drive/xd_vs_flow\n"
          ],
          "name": "stdout"
        }
      ]
    },
    {
      "cell_type": "code",
      "metadata": {
        "id": "igp4eClaJpms",
        "outputId": "6c108471-81a9-4af3-a330-c7c14244644a",
        "colab": {
          "base_uri": "https://localhost:8080/",
          "height": 105
        }
      },
      "source": [
        "!pip install torchdiffeq"
      ],
      "execution_count": 3,
      "outputs": [
        {
          "output_type": "stream",
          "text": [
            "Requirement already satisfied: torchdiffeq in /usr/local/lib/python3.6/dist-packages (0.1.1)\n",
            "Requirement already satisfied: torch>=1.3.0 in /usr/local/lib/python3.6/dist-packages (from torchdiffeq) (1.6.0+cu101)\n",
            "Requirement already satisfied: numpy in /usr/local/lib/python3.6/dist-packages (from torch>=1.3.0->torchdiffeq) (1.18.5)\n",
            "Requirement already satisfied: future in /usr/local/lib/python3.6/dist-packages (from torch>=1.3.0->torchdiffeq) (0.16.0)\n"
          ],
          "name": "stdout"
        }
      ]
    },
    {
      "cell_type": "code",
      "metadata": {
        "id": "pRKuRhZ1Jdjn"
      },
      "source": [
        "import os, sys, time\n",
        "import pickle\n",
        "import numpy as np\n",
        "import pandas as pd\n",
        "import matplotlib.pyplot as plt "
      ],
      "execution_count": 9,
      "outputs": []
    },
    {
      "cell_type": "code",
      "metadata": {
        "id": "60ThTe9MJjpr"
      },
      "source": [
        "import torch\n",
        "from torch import nn\n",
        "from torch.utils.data import TensorDataset, DataLoader\n",
        "from torch.optim import Adam"
      ],
      "execution_count": 5,
      "outputs": []
    },
    {
      "cell_type": "code",
      "metadata": {
        "id": "L649tH0fJk8w"
      },
      "source": [
        "import lib.toy_data as toy_data\n",
        "import lib.utils as utils\n",
        "from lib.visualize_flow import visualize_transform\n",
        "import lib.layers.odefunc as odefunc\n",
        "\n",
        "from train_misc import standard_normal_logprob\n",
        "from train_misc import set_cnf_options, count_nfe, count_parameters, count_total_time\n",
        "from train_misc import add_spectral_norm, spectral_norm_power_iteration\n",
        "from train_misc import create_regularization_fns, get_regularization, append_regularization_to_log\n",
        "from train_misc import build_model_tabular"
      ],
      "execution_count": 6,
      "outputs": []
    },
    {
      "cell_type": "code",
      "metadata": {
        "id": "kpQRf9ujk_l2"
      },
      "source": [
        "from sklearn.preprocessing import StandardScaler\n",
        "ss = StandardScaler()"
      ],
      "execution_count": 7,
      "outputs": []
    },
    {
      "cell_type": "code",
      "metadata": {
        "id": "jV7lkW-KJmmW"
      },
      "source": [
        "# read in 1 Gyr SSFR and 100 Myr SSFR\n",
        "__ssfr_1gyr = np.load('_ssfr_1gyr.npy')\n",
        "__ssfr_100myr = np.load('_ssfr_100myr.npy')\n",
        "\n",
        "_ssfr_1gyr = np.log10(__ssfr_1gyr.copy())\n",
        "_ssfr_100myr = np.log10(__ssfr_100myr.copy())\n",
        "\n",
        "N = len(_ssfr_1gyr)\n",
        "print('N=%i' % N)\n",
        "\n",
        "npdata = np.array([_ssfr_1gyr, _ssfr_100myr]).T\n",
        "ss.fit(npdata)\n",
        "data = torch.from_numpy(npdata.astype(np.float32))"
      ],
      "execution_count": 7,
      "outputs": []
    },
    {
      "cell_type": "code",
      "metadata": {
        "id": "dcfLQ5UWlIY8",
        "outputId": "01e477d8-ff0a-430f-84ff-0046a231154f",
        "colab": {
          "base_uri": "https://localhost:8080/",
          "height": 34
        }
      },
      "source": [
        "raw_np = np.load('quick_isochrone.npy')\n",
        "raw_np = raw_np\n",
        "\n",
        "raw = pd.DataFrame({'G': raw_np[:, 0], 'bp_rp': raw_np[:, 1]})\n",
        "\n",
        "#Add some noise:\n",
        "raw['g_std'] = np.random.rand(len(raw))*0.3 + 1e-3\n",
        "raw['bp_rp_p'] = raw['bp_rp'] + raw['g_std']*np.random.randn(len(raw))\n",
        "raw['G_p'] = raw['G'] + raw['g_std']*np.random.randn(len(raw))\n",
        "\n",
        "N = len(raw)\n",
        "print('N=%i' % N)\n",
        "\n",
        "use_cols = ['G_p', 'bp_rp_p']#, 'g_std']#, 'BP', 'RP']\n",
        "cond_cols = []\n",
        "\n",
        "npdata = np.array(raw[use_cols + cond_cols])\n",
        "ss.fit(npdata)\n",
        "data = torch.from_numpy(npdata.astype(np.float32))"
      ],
      "execution_count": 13,
      "outputs": [
        {
          "output_type": "stream",
          "text": [
            "N=100000\n"
          ],
          "name": "stdout"
        }
      ]
    },
    {
      "cell_type": "code",
      "metadata": {
        "id": "lcqwJBETS8Mx",
        "outputId": "45548332-db7e-41d2-c561-191c2c6c80ba",
        "colab": {
          "base_uri": "https://localhost:8080/",
          "height": 51
        }
      },
      "source": [
        "print(ss.scale_)\n",
        "print(ss.mean_)"
      ],
      "execution_count": 14,
      "outputs": [
        {
          "output_type": "stream",
          "text": [
            "[1.30880609 0.29793693]\n",
            "[3.45021588 0.10506053]\n"
          ],
          "name": "stdout"
        }
      ]
    },
    {
      "cell_type": "code",
      "metadata": {
        "id": "NHDftARMJ2gk"
      },
      "source": [
        "traindataset = TensorDataset(data[:-(N//5)])\n",
        "testdataset = TensorDataset(data[-(N//5):])\n",
        "batch = 1024\n",
        "train = DataLoader(traindataset, batch_size=batch, shuffle=True, drop_last=True)\n",
        "test = DataLoader(testdataset, batch_size=batch, shuffle=False)"
      ],
      "execution_count": 15,
      "outputs": []
    },
    {
      "cell_type": "code",
      "metadata": {
        "id": "BzVGYnm7J33P",
        "outputId": "f90a4911-2d96-4dfe-c171-ba69c779bccd",
        "colab": {
          "base_uri": "https://localhost:8080/",
          "height": 34
        }
      },
      "source": [
        "len(traindataset)/batch"
      ],
      "execution_count": 16,
      "outputs": [
        {
          "output_type": "execute_result",
          "data": {
            "text/plain": [
              "78.125"
            ]
          },
          "metadata": {
            "tags": []
          },
          "execution_count": 16
        }
      ]
    },
    {
      "cell_type": "code",
      "metadata": {
        "id": "Q4I-DtnMJ5Bn"
      },
      "source": [
        "args = pickle.load(open('args.pkl', 'rb'))"
      ],
      "execution_count": 17,
      "outputs": []
    },
    {
      "cell_type": "markdown",
      "metadata": {
        "id": "jfHjl2gUnPBi"
      },
      "source": [
        ""
      ]
    },
    {
      "cell_type": "code",
      "metadata": {
        "id": "xCHevWFCJ6nc"
      },
      "source": [
        "regularization_fns, regularization_coeffs = create_regularization_fns(args)\n",
        "model = build_model_tabular(args, 2, regularization_fns).cuda()"
      ],
      "execution_count": 58,
      "outputs": []
    },
    {
      "cell_type": "code",
      "metadata": {
        "id": "Q4Dc9gYXJ7t_"
      },
      "source": [
        "#if args.spectral_norm: add_spectral_norm(model)\n",
        "set_cnf_options(args, model)"
      ],
      "execution_count": 59,
      "outputs": []
    },
    {
      "cell_type": "code",
      "metadata": {
        "id": "5L8Okr1eLevG"
      },
      "source": [
        "optimizer = Adam(model.parameters(), lr=args.lr, weight_decay=args.weight_decay)"
      ],
      "execution_count": 60,
      "outputs": []
    },
    {
      "cell_type": "code",
      "metadata": {
        "id": "C-rfitNFLiBB"
      },
      "source": [
        "transform_scale = torch.from_numpy(ss.scale_).float().cuda()[np.newaxis, :]\n",
        "transform_mean = torch.from_numpy(ss.mean_).float().cuda()[np.newaxis, :]\n",
        "\n",
        "def compute_loss(args, model, X, batch_size=None):\n",
        "    if batch_size is None: batch_size = args.batch_size\n",
        "    X = X.cuda()\n",
        "\n",
        "    x = (X - transform_mean)/transform_scale\n",
        "    zero = torch.zeros(x.shape[0], 1).to(x)\n",
        "\n",
        "    # transform to z\n",
        "    z, delta_logp = model(x, zero)\n",
        "    #z = model(x)\n",
        "    \n",
        "    # compute log q(z)\n",
        "    logpz = standard_normal_logprob(z).sum(1, keepdim=True)\n",
        "    #return -torch.mean(logpz)\n",
        "    logpx = logpz - delta_logp\n",
        "    loss = -torch.mean(logpx)\n",
        "    return loss"
      ],
      "execution_count": 61,
      "outputs": []
    },
    {
      "cell_type": "code",
      "metadata": {
        "id": "MRDBt-CoLlZ3"
      },
      "source": [
        "time_meter = utils.RunningAverageMeter(0.93)\n",
        "loss_meter = utils.RunningAverageMeter(0.93)\n",
        "nfef_meter = utils.RunningAverageMeter(0.93)\n",
        "nfeb_meter = utils.RunningAverageMeter(0.93)\n",
        "tt_meter = utils.RunningAverageMeter(0.93)"
      ],
      "execution_count": 62,
      "outputs": []
    },
    {
      "cell_type": "code",
      "metadata": {
        "id": "jnryFRVELw8Y"
      },
      "source": [
        "itr = 0"
      ],
      "execution_count": 63,
      "outputs": []
    },
    {
      "cell_type": "code",
      "metadata": {
        "id": "C98_rrg8LysU",
        "outputId": "f23dc0e8-80b8-4b6d-bce5-3f5b26840f60",
        "colab": {
          "base_uri": "https://localhost:8080/",
          "height": 680
        }
      },
      "source": [
        "model = model.cuda()\n",
        "model.train()"
      ],
      "execution_count": 64,
      "outputs": [
        {
          "output_type": "execute_result",
          "data": {
            "text/plain": [
              "SequentialFlow(\n",
              "  (chain): ModuleList(\n",
              "    (0): CNF(\n",
              "      (odefunc): RegularizedODEfunc(\n",
              "        (odefunc): ODEfunc(\n",
              "          (diffeq): ODEnet(\n",
              "            (layers): ModuleList(\n",
              "              (0): ConcatSquashLinear(\n",
              "                (_layer): Linear(in_features=2, out_features=64, bias=True)\n",
              "                (_hyper_bias): Linear(in_features=1, out_features=64, bias=False)\n",
              "                (_hyper_gate): Linear(in_features=1, out_features=64, bias=True)\n",
              "              )\n",
              "              (1): ConcatSquashLinear(\n",
              "                (_layer): Linear(in_features=64, out_features=64, bias=True)\n",
              "                (_hyper_bias): Linear(in_features=1, out_features=64, bias=False)\n",
              "                (_hyper_gate): Linear(in_features=1, out_features=64, bias=True)\n",
              "              )\n",
              "              (2): ConcatSquashLinear(\n",
              "                (_layer): Linear(in_features=64, out_features=64, bias=True)\n",
              "                (_hyper_bias): Linear(in_features=1, out_features=64, bias=False)\n",
              "                (_hyper_gate): Linear(in_features=1, out_features=64, bias=True)\n",
              "              )\n",
              "              (3): ConcatSquashLinear(\n",
              "                (_layer): Linear(in_features=64, out_features=2, bias=True)\n",
              "                (_hyper_bias): Linear(in_features=1, out_features=2, bias=False)\n",
              "                (_hyper_gate): Linear(in_features=1, out_features=2, bias=True)\n",
              "              )\n",
              "            )\n",
              "            (activation_fns): ModuleList(\n",
              "              (0): Tanh()\n",
              "              (1): Tanh()\n",
              "              (2): Tanh()\n",
              "            )\n",
              "          )\n",
              "        )\n",
              "      )\n",
              "    )\n",
              "  )\n",
              ")"
            ]
          },
          "metadata": {
            "tags": []
          },
          "execution_count": 64
        }
      ]
    },
    {
      "cell_type": "code",
      "metadata": {
        "id": "2jvmPTVdRdJh",
        "outputId": "d023e04d-57d4-496b-e34a-fc462040512c",
        "colab": {
          "base_uri": "https://localhost:8080/",
          "height": 446
        }
      },
      "source": [
        "end = time.time()\n",
        "\n",
        "while itr < 10000:\n",
        "    for X in train:\n",
        "        optimizer.zero_grad()\n",
        "        #if args.spectral_norm: spectral_norm_power_iteration(model, 1)\n",
        "\n",
        "        loss = compute_loss(args, model, X[0])\n",
        "\n",
        "        loss_meter.update(loss.item())\n",
        "        total_time = count_total_time(model)\n",
        "        nfe_forward = count_nfe(model)\n",
        "\n",
        "        loss.backward()\n",
        "        optimizer.step()\n",
        "\n",
        "        itr += 1\n",
        "\n",
        "        if itr % 50 == 0:\n",
        "            nfe_total = count_nfe(model)\n",
        "            nfe_backward = nfe_total - nfe_forward\n",
        "            nfef_meter.update(nfe_forward)\n",
        "            nfeb_meter.update(nfe_backward)\n",
        "\n",
        "            time_meter.update(time.time() - end)\n",
        "            tt_meter.update(total_time)\n",
        "\n",
        "            log_message = (\n",
        "                'Iter {:04d} | Time {:.4f}({:.4f}) | Loss {:.6f}({:.6f}) | NFE Forward {:.0f}({:.1f})'\n",
        "                ' | NFE Backward {:.0f}({:.1f}) | CNF Time {:.4f}({:.4f})'.format(\n",
        "                    itr, time_meter.val, time_meter.avg, loss_meter.val, loss_meter.avg, nfef_meter.val, nfef_meter.avg,\n",
        "                    nfeb_meter.val, nfeb_meter.avg, tt_meter.val, tt_meter.avg\n",
        "                )\n",
        "            )\n",
        "            print(log_message)"
      ],
      "execution_count": 65,
      "outputs": [
        {
          "output_type": "stream",
          "text": [
            "/content/drive/My Drive/xd_vs_flow/lib/layers/odefunc.py:288: UserWarning: To copy construct from a tensor, it is recommended to use sourceTensor.clone().detach() or sourceTensor.clone().detach().requires_grad_(True), rather than torch.tensor(sourceTensor).\n",
            "  t = torch.tensor(t).type_as(y)\n"
          ],
          "name": "stderr"
        },
        {
          "output_type": "error",
          "ename": "RuntimeError",
          "evalue": "ignored",
          "traceback": [
            "\u001b[0;31m---------------------------------------------------------------------------\u001b[0m",
            "\u001b[0;31mRuntimeError\u001b[0m                              Traceback (most recent call last)",
            "\u001b[0;32m<ipython-input-65-560163da19a5>\u001b[0m in \u001b[0;36m<module>\u001b[0;34m()\u001b[0m\n\u001b[1;32m     12\u001b[0m         \u001b[0mnfe_forward\u001b[0m \u001b[0;34m=\u001b[0m \u001b[0mcount_nfe\u001b[0m\u001b[0;34m(\u001b[0m\u001b[0mmodel\u001b[0m\u001b[0;34m)\u001b[0m\u001b[0;34m\u001b[0m\u001b[0;34m\u001b[0m\u001b[0m\n\u001b[1;32m     13\u001b[0m \u001b[0;34m\u001b[0m\u001b[0m\n\u001b[0;32m---> 14\u001b[0;31m         \u001b[0mloss\u001b[0m\u001b[0;34m.\u001b[0m\u001b[0mbackward\u001b[0m\u001b[0;34m(\u001b[0m\u001b[0;34m)\u001b[0m\u001b[0;34m\u001b[0m\u001b[0;34m\u001b[0m\u001b[0m\n\u001b[0m\u001b[1;32m     15\u001b[0m         \u001b[0moptimizer\u001b[0m\u001b[0;34m.\u001b[0m\u001b[0mstep\u001b[0m\u001b[0;34m(\u001b[0m\u001b[0;34m)\u001b[0m\u001b[0;34m\u001b[0m\u001b[0;34m\u001b[0m\u001b[0m\n\u001b[1;32m     16\u001b[0m \u001b[0;34m\u001b[0m\u001b[0m\n",
            "\u001b[0;32m/usr/local/lib/python3.6/dist-packages/torch/tensor.py\u001b[0m in \u001b[0;36mbackward\u001b[0;34m(self, gradient, retain_graph, create_graph)\u001b[0m\n\u001b[1;32m    183\u001b[0m                 \u001b[0mproducts\u001b[0m\u001b[0;34m.\u001b[0m \u001b[0mDefaults\u001b[0m \u001b[0mto\u001b[0m\u001b[0;31m \u001b[0m\u001b[0;31m`\u001b[0m\u001b[0;31m`\u001b[0m\u001b[0;32mFalse\u001b[0m\u001b[0;31m`\u001b[0m\u001b[0;31m`\u001b[0m\u001b[0;34m.\u001b[0m\u001b[0;34m\u001b[0m\u001b[0;34m\u001b[0m\u001b[0m\n\u001b[1;32m    184\u001b[0m         \"\"\"\n\u001b[0;32m--> 185\u001b[0;31m         \u001b[0mtorch\u001b[0m\u001b[0;34m.\u001b[0m\u001b[0mautograd\u001b[0m\u001b[0;34m.\u001b[0m\u001b[0mbackward\u001b[0m\u001b[0;34m(\u001b[0m\u001b[0mself\u001b[0m\u001b[0;34m,\u001b[0m \u001b[0mgradient\u001b[0m\u001b[0;34m,\u001b[0m \u001b[0mretain_graph\u001b[0m\u001b[0;34m,\u001b[0m \u001b[0mcreate_graph\u001b[0m\u001b[0;34m)\u001b[0m\u001b[0;34m\u001b[0m\u001b[0;34m\u001b[0m\u001b[0m\n\u001b[0m\u001b[1;32m    186\u001b[0m \u001b[0;34m\u001b[0m\u001b[0m\n\u001b[1;32m    187\u001b[0m     \u001b[0;32mdef\u001b[0m \u001b[0mregister_hook\u001b[0m\u001b[0;34m(\u001b[0m\u001b[0mself\u001b[0m\u001b[0;34m,\u001b[0m \u001b[0mhook\u001b[0m\u001b[0;34m)\u001b[0m\u001b[0;34m:\u001b[0m\u001b[0;34m\u001b[0m\u001b[0;34m\u001b[0m\u001b[0m\n",
            "\u001b[0;32m/usr/local/lib/python3.6/dist-packages/torch/autograd/__init__.py\u001b[0m in \u001b[0;36mbackward\u001b[0;34m(tensors, grad_tensors, retain_graph, create_graph, grad_variables)\u001b[0m\n\u001b[1;32m    125\u001b[0m     Variable._execution_engine.run_backward(\n\u001b[1;32m    126\u001b[0m         \u001b[0mtensors\u001b[0m\u001b[0;34m,\u001b[0m \u001b[0mgrad_tensors\u001b[0m\u001b[0;34m,\u001b[0m \u001b[0mretain_graph\u001b[0m\u001b[0;34m,\u001b[0m \u001b[0mcreate_graph\u001b[0m\u001b[0;34m,\u001b[0m\u001b[0;34m\u001b[0m\u001b[0;34m\u001b[0m\u001b[0m\n\u001b[0;32m--> 127\u001b[0;31m         allow_unreachable=True)  # allow_unreachable flag\n\u001b[0m\u001b[1;32m    128\u001b[0m \u001b[0;34m\u001b[0m\u001b[0m\n\u001b[1;32m    129\u001b[0m \u001b[0;34m\u001b[0m\u001b[0m\n",
            "\u001b[0;31mRuntimeError\u001b[0m: If using tupled rtol it must have the same length as the tuple y0"
          ]
        }
      ]
    },
    {
      "cell_type": "code",
      "metadata": {
        "id": "oGGn4WJlMAfT"
      },
      "source": [
        "from torch.functional import F"
      ],
      "execution_count": 27,
      "outputs": []
    },
    {
      "cell_type": "code",
      "metadata": {
        "id": "NOIIhKGpMCW6"
      },
      "source": [
        "def ezmodel(model, x):\n",
        "    zero = torch.zeros(x.shape[0], 1)\n",
        "    # transform to z\n",
        "    z, delta_logp = model(x, zero)\n",
        "\n",
        "    # compute log q(z)\n",
        "    logpz = standard_normal_logprob(z).sum(1, keepdim=True)\n",
        "\n",
        "    logpx = logpz - delta_logp\n",
        "    \n",
        "    return logpx\n",
        "\n",
        "def soft_lo_clamp(x, lo):\n",
        "    return F.softplus(x-lo) + lo"
      ],
      "execution_count": 28,
      "outputs": []
    },
    {
      "cell_type": "code",
      "metadata": {
        "id": "sSKN2QYxMPRC",
        "outputId": "23d8e880-1926-4ae4-8ea3-aec2e3809b18",
        "colab": {
          "base_uri": "https://localhost:8080/",
          "height": 71
        }
      },
      "source": [
        "min_1gyr = 0\n",
        "max_1gyr = 3e-9\n",
        "min_100myr = 0\n",
        "max_100myr = 3e-9\n",
        "\n",
        "num = 100\n",
        "p_1gyr, p_100myr = np.meshgrid(np.linspace(min_1gyr, max_1gyr, num=num), np.linspace(min_100myr, max_100myr, num=num))\n",
        "p_1gyr = p_1gyr.reshape(-1)\n",
        "p_100myr = p_100myr.reshape(-1)\n",
        "\n",
        "pdatap = np.zeros((len(p_1gyr), 2), dtype=np.float32)\n",
        "pdatap[:, 0] = p_1gyr\n",
        "pdatap[:, 1] = p_100myr\n",
        "\n",
        "pdata = ss.transform(pdatap)\n",
        "\n",
        "pdata = torch.from_numpy(pdata)#.cuda()\n",
        "pdata_set = TensorDataset(pdata)\n",
        "pdata_loader = DataLoader(pdata_set, batch_size=1000, shuffle=False)\n",
        "model.eval()\n",
        "\n",
        "logprob = soft_lo_clamp(torch.cat([ezmodel(model, q[:, :2]).cpu().detach() for (q,) in pdata_loader], dim=0), -100).numpy()\n",
        "\n",
        "_exp = lambda _x: np.exp(_x/4)\n",
        "prob = _exp(logprob.reshape(num, num))"
      ],
      "execution_count": 30,
      "outputs": [
        {
          "output_type": "stream",
          "text": [
            "/content/drive/My Drive/xd_vs_flow/lib/layers/odefunc.py:288: UserWarning: To copy construct from a tensor, it is recommended to use sourceTensor.clone().detach() or sourceTensor.clone().detach().requires_grad_(True), rather than torch.tensor(sourceTensor).\n",
            "  t = torch.tensor(t).type_as(y)\n"
          ],
          "name": "stderr"
        }
      ]
    },
    {
      "cell_type": "code",
      "metadata": {
        "id": "N9XzryIOOiic",
        "outputId": "fb7e5197-ad81-43c5-981f-c3549a5bfeed",
        "colab": {
          "base_uri": "https://localhost:8080/",
          "height": 469
        }
      },
      "source": [
        "fig = plt.figure(figsize=(12,6))\n",
        "sub = fig.add_subplot(121)\n",
        "norm = CustomNorm(0.5)\n",
        "h, _, _, _ = sub.hist2d(_ssfr_1gyr, _ssfr_100myr, bins=100, range=[(min_1gyr, max_1gyr), (min_100myr, max_100myr)], normed=True)\n",
        "\n",
        "sub = fig.add_subplot(122)\n",
        "sub.imshow(prob.T, origin='lower', extent=[min_1gyr, max_1gyr, min_100myr, max_100myr], aspect='auto')"
      ],
      "execution_count": 35,
      "outputs": [
        {
          "output_type": "stream",
          "text": [
            "/usr/local/lib/python3.6/dist-packages/ipykernel_launcher.py:4: MatplotlibDeprecationWarning: The 'normed' parameter of hist2d() has been renamed 'density' since Matplotlib 3.1; support for the old name will be dropped in 3.3.\n",
            "  after removing the cwd from sys.path.\n"
          ],
          "name": "stderr"
        },
        {
          "output_type": "execute_result",
          "data": {
            "text/plain": [
              "<matplotlib.image.AxesImage at 0x7fe0e44f2dd8>"
            ]
          },
          "metadata": {
            "tags": []
          },
          "execution_count": 35
        },
        {
          "output_type": "display_data",
          "data": {
            "image/png": "[encoded data removed]",
            "text/plain": [
              "<Figure size 864x432 with 2 Axes>"
            ]
          },
          "metadata": {
            "tags": [],
            "needs_background": "light"
          }
        }
      ]
    },
    {
      "cell_type": "code",
      "metadata": {
        "id": "__Cy8sfFPKD3"
      },
      "source": [
        ""
      ],
      "execution_count": null,
      "outputs": []
    }
  ]
}
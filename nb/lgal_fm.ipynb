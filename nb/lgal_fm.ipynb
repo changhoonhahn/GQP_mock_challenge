{
 "cells": [
  {
   "cell_type": "markdown",
   "id": "aeff28f0-c7d2-4e00-8a10-352fea339ef6",
   "metadata": {},
   "source": [
    "# forward model BGS observables (photometry and spectra) for LGalaxies"
   ]
  },
  {
   "cell_type": "code",
   "execution_count": 1,
   "id": "da98729a-b98b-48cb-be40-a689eee5e271",
   "metadata": {},
   "outputs": [],
   "source": [
    "import os \n",
    "import h5py \n",
    "import pickle \n",
    "import numpy as np \n",
    "import scipy as sp\n",
    "# --- astropy --- \n",
    "import astropy.units as u\n",
    "import astropy.constants as const\n",
    "from astropy.io import fits\n",
    "import astropy.table as aTable\n",
    "from speclite import filters as specFilter"
   ]
  },
  {
   "cell_type": "code",
   "execution_count": 2,
   "id": "abde63fc-520c-4ecd-9ed6-01666a53c3f6",
   "metadata": {},
   "outputs": [
    {
     "name": "stdout",
     "output_type": "stream",
     "text": [
      "Defaulting to user installation because normal site-packages is not writeable\n",
      "Requirement already satisfied: corner in /global/u1/c/chahah/.local/lib/python3.8/site-packages (2.2.1)\n",
      "Requirement already satisfied: matplotlib>=2.1 in /global/common/software/desi/cori/desiconda/20200801-1.4.0-spec/conda/lib/python3.8/site-packages (from corner) (3.2.1)\n",
      "Requirement already satisfied: cycler>=0.10 in /global/common/software/desi/cori/desiconda/20200801-1.4.0-spec/conda/lib/python3.8/site-packages (from matplotlib>=2.1->corner) (0.10.0)\n",
      "Requirement already satisfied: kiwisolver>=1.0.1 in /global/common/software/desi/cori/desiconda/20200801-1.4.0-spec/conda/lib/python3.8/site-packages (from matplotlib>=2.1->corner) (1.2.0)\n",
      "Requirement already satisfied: python-dateutil>=2.1 in /global/common/software/desi/cori/desiconda/20200801-1.4.0-spec/conda/lib/python3.8/site-packages (from matplotlib>=2.1->corner) (2.8.1)\n",
      "Requirement already satisfied: pyparsing!=2.0.4,!=2.1.2,!=2.1.6,>=2.0.1 in /global/common/software/desi/cori/desiconda/20200801-1.4.0-spec/conda/lib/python3.8/site-packages (from matplotlib>=2.1->corner) (2.4.7)\n",
      "Requirement already satisfied: numpy>=1.11 in /global/common/software/desi/cori/desiconda/20200801-1.4.0-spec/conda/lib/python3.8/site-packages (from matplotlib>=2.1->corner) (1.19.1)\n",
      "Requirement already satisfied: six in /global/common/software/desi/cori/desiconda/20200801-1.4.0-spec/conda/lib/python3.8/site-packages (from cycler>=0.10->matplotlib>=2.1->corner) (1.14.0)\n"
     ]
    }
   ],
   "source": [
    "!pip install corner"
   ]
  },
  {
   "cell_type": "code",
   "execution_count": 3,
   "id": "d08e07ac-0639-419d-bb5d-8555e27249f8",
   "metadata": {},
   "outputs": [],
   "source": [
    "# --- plotting --- \n",
    "import corner as dfm\n",
    "import matplotlib as mpl\n",
    "import matplotlib.pyplot as plt\n",
    "mpl.rcParams['text.usetex'] = True\n",
    "mpl.rcParams['font.family'] = 'serif'\n",
    "mpl.rcParams['axes.linewidth'] = 1.5\n",
    "mpl.rcParams['axes.xmargin'] = 1\n",
    "mpl.rcParams['xtick.labelsize'] = 'x-large'\n",
    "mpl.rcParams['xtick.major.size'] = 5\n",
    "mpl.rcParams['xtick.major.width'] = 1.5\n",
    "mpl.rcParams['ytick.labelsize'] = 'x-large'\n",
    "mpl.rcParams['ytick.major.size'] = 5\n",
    "mpl.rcParams['ytick.major.width'] = 1.5\n",
    "mpl.rcParams['legend.frameon'] = False"
   ]
  },
  {
   "cell_type": "code",
   "execution_count": 8,
   "id": "890b8045-990a-4ce4-bd32-b92d8c3b1ebb",
   "metadata": {},
   "outputs": [],
   "source": [
    "version = '1.3' # 06/25/2021 "
   ]
  },
  {
   "cell_type": "code",
   "execution_count": 9,
   "id": "ce870bbe-856f-48be-a8cd-54153d544c75",
   "metadata": {},
   "outputs": [],
   "source": [
    "dat_dir = '/global/cfs/cdirs/desi/mocks/LGal_spectra'"
   ]
  },
  {
   "cell_type": "code",
   "execution_count": 10,
   "id": "624b6078-6b60-4279-b96b-fcc0262a1621",
   "metadata": {},
   "outputs": [],
   "source": [
    "# read in LGal SED\n",
    "lgal_dict = pickle.load(open(os.path.join(dat_dir, 'Lgal_fsps_minimocha.p'), 'rb'))"
   ]
  },
  {
   "cell_type": "code",
   "execution_count": 11,
   "id": "5cfb9ef7-0e74-48b9-b18a-a8c2c95d41a9",
   "metadata": {},
   "outputs": [],
   "source": [
    "# read BGS photometry for comparison\n",
    "bgs = aTable.Table.read('/global/cfs/cdirs/desi/science/gqp/provabgs.sv3.sbi.v0.fits')\n",
    "\n",
    "g_bgs = 22.5 - 2.5 * np.log10(bgs['FLUX_G'])\n",
    "r_bgs = 22.5 - 2.5 * np.log10(bgs['FLUX_R']) \n",
    "z_bgs = 22.5 - 2.5 * np.log10(bgs['FLUX_Z']) "
   ]
  },
  {
   "cell_type": "markdown",
   "id": "82ef4256-940e-44f8-8ca2-0bf52b784a36",
   "metadata": {},
   "source": [
    "## compile meta-data"
   ]
  },
  {
   "cell_type": "code",
   "execution_count": 12,
   "id": "01eb315e-9e7a-4343-b5d4-e2e306045d69",
   "metadata": {},
   "outputs": [
    {
     "name": "stdout",
     "output_type": "stream",
     "text": [
      "0.05 < z < 0.40\n"
     ]
    },
    {
     "name": "stderr",
     "output_type": "stream",
     "text": [
      "<ipython-input-12-0c9cf240f08a>:9: RuntimeWarning: divide by zero encountered in log10\n",
      "  meta['logM_bulge']  = [np.log10(np.sum(sfh)) for sfh in lgal_dict['sfh_bulge']]\n"
     ]
    }
   ],
   "source": [
    "meta = {} \n",
    "meta['t_lookback']  = lgal_dict['t_sfh']\n",
    "meta['dt']          = lgal_dict['dt']\n",
    "meta['sfh_disk']    = lgal_dict['sfh_disk']\n",
    "meta['sfh_bulge']   = lgal_dict['sfh_bulge']\n",
    "meta['Z_disk']      = lgal_dict['Z_disk']\n",
    "meta['Z_bulge']     = lgal_dict['Z_bulge']\n",
    "meta['logM_disk']   = [np.log10(np.sum(sfh)) for sfh in lgal_dict['sfh_disk']]\n",
    "meta['logM_bulge']  = [np.log10(np.sum(sfh)) for sfh in lgal_dict['sfh_bulge']]\n",
    "meta['logM_total']  = [np.log10(np.sum(sfh0) + np.sum(sfh1)) for sfh0, sfh1 in zip(lgal_dict['sfh_disk'], lgal_dict['sfh_bulge'])]\n",
    "\n",
    "# mass weighted age and metallicity \n",
    "t_age_mw, z_mw = [], [] \n",
    "for i in range(len(lgal_dict['dt'])): \n",
    "    t_age_mw.append(\n",
    "            np.sum(lgal_dict['t_sfh'][i] * (lgal_dict['sfh_disk'][i] + lgal_dict['sfh_bulge'][i])) /\n",
    "            np.sum(lgal_dict['sfh_disk'][i] + lgal_dict['sfh_bulge'][i])\n",
    "            )\n",
    "    z_mw.append(\n",
    "            np.sum(lgal_dict['Z_disk'][i] * lgal_dict['sfh_disk'][i] +\n",
    "                lgal_dict['Z_bulge'][i] * lgal_dict['sfh_bulge'][i]) / \n",
    "            np.sum(lgal_dict['sfh_disk'][i] + lgal_dict['sfh_bulge'][i])\n",
    "            )\n",
    "meta['t_age_MW']    = t_age_mw \n",
    "meta['Z_MW']        = z_mw\n",
    "meta['redshift']    = lgal_dict['redshift'] \n",
    "meta['cosi']        = lgal_dict['cosi']\n",
    "meta['tau_ism']     = lgal_dict['tauISM']\n",
    "meta['tau_bc']      = lgal_dict['tauBC']\n",
    "meta['vd_disk']     = lgal_dict['vd_disk']\n",
    "meta['vd_bulge']    = lgal_dict['vd_bulge']\n",
    "print('%.2f < z < %.2f' % (np.min(meta['redshift']), np.max(meta['redshift'])))"
   ]
  },
  {
   "cell_type": "markdown",
   "id": "0cd9cbe1-cb21-4580-a296-e5f4f1334348",
   "metadata": {},
   "source": [
    "## generate noiseless photometry"
   ]
  },
  {
   "cell_type": "code",
   "execution_count": 13,
   "id": "c26ff0b9-8477-4b4e-bad8-197674ffa8e8",
   "metadata": {},
   "outputs": [],
   "source": [
    "# load DECAM g, r, z and WISE W1-4\n",
    "filters_desi = specFilter.load_filters('decam2014-g', 'decam2014-r', 'decam2014-z', 'wise2010-W1', 'wise2010-W2')\n",
    "\n",
    "def get_photometry(w, f): \n",
    "    ''' calculate photometry in nanomaggies\n",
    "    '''\n",
    "    return 1e9* np.array(list((filters_desi.get_ab_maggies(np.atleast_2d(f), w)).as_array()[0]))"
   ]
  },
  {
   "cell_type": "code",
   "execution_count": 14,
   "id": "0aae8611-28ab-4c9e-995a-f12a9f1aab2f",
   "metadata": {},
   "outputs": [],
   "source": [
    "photo_true = np.array([get_photometry(w, f) for w, f, in zip(lgal_dict['wave_obs'], lgal_dict['flux_dust'])])\n",
    "mag_true = 22.5 - 2.5 * np.log10(photo_true)"
   ]
  },
  {
   "cell_type": "code",
   "execution_count": 15,
   "id": "97fcd51d-a3b5-4423-aa75-11206e0af0a0",
   "metadata": {},
   "outputs": [
    {
     "data": {
      "text/plain": [
       "(0.0, 1.5)"
      ]
     },
     "execution_count": 15,
     "metadata": {},
     "output_type": "execute_result"
    },
    {
     "data": {
      "image/png": "[encoded data removed]",
      "text/plain": [
       "<Figure size 432x432 with 1 Axes>"
      ]
     },
     "metadata": {
      "needs_background": "light"
     },
     "output_type": "display_data"
    }
   ],
   "source": [
    "fig = plt.figure(figsize=(6,6))\n",
    "sub = fig.add_subplot(111)\n",
    "dfm.hist2d(g_bgs - r_bgs, r_bgs - z_bgs, color='k', levels=[0.68, 0.95], \n",
    "           range=[[-1., 3.], [-1., 3.]], bins=40, smooth=0.5,             \n",
    "           plot_datapoints=False, fill_contours=False, plot_density=False, linewidth=0.5, ax=sub)\n",
    "sub.fill_between([0],[0],[0], fc='none', ec='k', label='BGS Legacy Surveys') \n",
    "sub.scatter(mag_true[:,0] - mag_true[:,1], mag_true[:,1] - mag_true[:,2], c='r', s=2, label='LGAL FSPS')\n",
    "sub.legend(loc='upper left', handletextpad=0.1, markerscale=3, fontsize=20)\n",
    "sub.set_xlabel('$g-r$', fontsize=25)\n",
    "sub.set_xlim(0., 2.)\n",
    "sub.set_ylabel('$r-z$', fontsize=25)\n",
    "sub.set_ylim(0., 1.5)"
   ]
  },
  {
   "cell_type": "markdown",
   "id": "6d6231a5-75ad-4c0a-8d97-88192938a6ae",
   "metadata": {},
   "source": [
    "## assign uncertainties and apply noise model\n",
    "assign $g, r, z$ uncertainties based on nearest neighbor match to BGS data in ($r$, $g-r$, $r-z$) space"
   ]
  },
  {
   "cell_type": "code",
   "execution_count": 16,
   "id": "46b58b42-6e17-420c-81a6-cf675e86d4f2",
   "metadata": {},
   "outputs": [],
   "source": [
    "bgs_photo       = np.zeros((len(bgs), 5)) \n",
    "bgs_photo_ivar  = np.zeros((len(bgs), 5))\n",
    "bgs_fiberflux   = np.zeros(len(bgs)) # r-band fiber flux\n",
    "for ib, band in enumerate(['G', 'R', 'Z', 'W1', 'W2']): \n",
    "    bgs_photo[:,ib]         = bgs['FLUX_%s' % band]\n",
    "    bgs_photo_ivar[:,ib]    = bgs['FLUX_IVAR_%s' % band] \n",
    "bgs_rfiberflux = bgs['FIBERFLUX_R']"
   ]
  },
  {
   "cell_type": "code",
   "execution_count": 17,
   "id": "8cdd5a43-3dd3-4c7a-8eda-68526e3d7c24",
   "metadata": {},
   "outputs": [],
   "source": [
    "from scipy.spatial import cKDTree as KDTree\n",
    "# construct KD tree from BGS targets (currently downsampled) \n",
    "bgs_features = np.array([r_bgs, g_bgs - r_bgs, r_bgs - z_bgs]).T\n",
    "tree = KDTree(bgs_features) \n",
    "# match ivars and fiberflux \n",
    "lgal_features = np.array([mag_true[:,1], mag_true[:,0] - mag_true[:,1], mag_true[:,1] - mag_true[:,2]]).T\n",
    "dist, indx = tree.query(lgal_features)\n",
    "\n",
    "photo_ivars = bgs_photo_ivar[indx,:] \n",
    "photo_rfiber_true = bgs_rfiberflux[indx] "
   ]
  },
  {
   "cell_type": "code",
   "execution_count": 18,
   "id": "0b86ada8-bc93-4078-a3ef-87d9d981db7f",
   "metadata": {},
   "outputs": [
    {
     "data": {
      "text/plain": [
       "(0.0, 1.5)"
      ]
     },
     "execution_count": 18,
     "metadata": {},
     "output_type": "execute_result"
    },
    {
     "data": {
      "image/png": "[encoded data removed]",
      "text/plain": [
       "<Figure size 432x432 with 1 Axes>"
      ]
     },
     "metadata": {
      "needs_background": "light"
     },
     "output_type": "display_data"
    }
   ],
   "source": [
    "fig = plt.figure(figsize=(6,6))\n",
    "sub = fig.add_subplot(111)\n",
    "for i in range(len(indx)):\n",
    "    sub.scatter(mag_true[i,0] - mag_true[i,1], mag_true[i,1] - mag_true[i,2], c='C%i' % i, s=10, label='LGAL FSPS')\n",
    "    sub.scatter(g_bgs[indx[i]] - r_bgs[indx[i]], r_bgs[indx[i]] - z_bgs[indx[i]], c='C%i' % i, marker='x', s=30, label='BGS matches')\n",
    "    if i == 0: sub.legend(loc='upper left', handletextpad=0.1, markerscale=3, fontsize=20)\n",
    "sub.set_xlabel('$g-r$', fontsize=25)\n",
    "sub.set_xlim(0., 2.)\n",
    "sub.set_ylabel('$r-z$', fontsize=25)\n",
    "sub.set_ylim(0., 1.5)"
   ]
  },
  {
   "cell_type": "code",
   "execution_count": 19,
   "id": "8f3ff33b-1bd9-4ed9-9163-2167b8c2bd2c",
   "metadata": {},
   "outputs": [],
   "source": [
    "# apply noise model to photometry\n",
    "photo_meas = photo_true + photo_ivars**-0.5 * np.random.randn(photo_true.shape[0], photo_true.shape[1]) "
   ]
  },
  {
   "cell_type": "code",
   "execution_count": 20,
   "id": "bdaaee7c-607a-449c-90f9-530a75b503e0",
   "metadata": {},
   "outputs": [],
   "source": [
    "# assign fiber fraction --- fraction of light that enters the fiber aperture\n",
    "f_fiber = photo_rfiber_true/photo_true[:,1] # (r fiber flux) / (r total flux) \n",
    "assert f_fiber.max() <= 1.\n",
    "\n",
    "meta['logM_fiber'] = np.log10(f_fiber) + meta['logM_total']\n",
    "\n",
    "# apply uncertainty to fiber flux as well \n",
    "photo_rivar_fiber = f_fiber**-2 * photo_ivars[:,1]     \n",
    "photo_rfiber_meas = photo_rfiber_true + photo_rivar_fiber**-0.5 * np.random.randn(photo_true.shape[0]) "
   ]
  },
  {
   "cell_type": "markdown",
   "id": "f9a60499-60e4-4126-9ad7-27f053f86f50",
   "metadata": {},
   "source": [
    "## scale SED spectra by fiber fraction"
   ]
  },
  {
   "cell_type": "code",
   "execution_count": 21,
   "id": "a095e666-0c76-430d-86c5-d370e937527f",
   "metadata": {},
   "outputs": [],
   "source": [
    "# interpolate to linear-spaced wavelength bin\n",
    "wave_lin = np.arange(1e3, 3e5, 0.2)\n",
    "flux_dust_interp = np.zeros((len(lgal_dict['flux_dust']), len(wave_lin)))\n",
    "for _wave, _flux in zip(lgal_dict['wave_obs'], lgal_dict['flux_dust']): \n",
    "    interp_flux_dust = sp.interpolate.interp1d(_wave.to(u.AA).value, _flux.to(1e-17 * u.erg/u.s/u.AA/u.cm**2).value, fill_value='extrapolate') \n",
    "    flux_dust_interp[i,:] = interp_flux_dust(wave_lin) "
   ]
  },
  {
   "cell_type": "code",
   "execution_count": 22,
   "id": "21fdb5b0-81a5-4129-b8c2-9e023c441115",
   "metadata": {},
   "outputs": [],
   "source": [
    "# scaling down noiseless Lgal SED spectra by fiber fraction \n",
    "spectra_fiber = flux_dust_interp * f_fiber[:,None] # 10e-17 erg/s/cm2/A"
   ]
  },
  {
   "cell_type": "markdown",
   "id": "064865f1-d973-4571-88dc-40f32d362089",
   "metadata": {},
   "source": [
    "# Apply BGS noise model"
   ]
  },
  {
   "cell_type": "code",
   "execution_count": 23,
   "id": "3db88eba-9019-43ed-8b9a-b983f01b2cfb",
   "metadata": {},
   "outputs": [
    {
     "name": "stdout",
     "output_type": "stream",
     "text": [
      "Defaulting to user installation because normal site-packages is not writeable\n",
      "Collecting git+https://github.com/desi-bgs/feasiBGS.git\n",
      "  Cloning https://github.com/desi-bgs/feasiBGS.git to /tmp/pip-req-build-2uvs1mwd\n",
      "  Running command git clone -q https://github.com/desi-bgs/feasiBGS.git /tmp/pip-req-build-2uvs1mwd\n",
      "Requirement already satisfied (use --upgrade to upgrade): feasibgs==0.1 from git+https://github.com/desi-bgs/feasiBGS.git in /global/u1/c/chahah/.local/lib/python3.8/site-packages\n",
      "Building wheels for collected packages: feasibgs\n",
      "  Building wheel for feasibgs (setup.py) ... \u001b[?25ldone\n",
      "\u001b[?25h  Created wheel for feasibgs: filename=feasibgs-0.1-py3-none-any.whl size=47422 sha256=4fbb38a50c793d22021ba12324a4aa9b82906d51175f8cd7f504677b06281c37\n",
      "  Stored in directory: /tmp/pip-ephem-wheel-cache-vaxq6ryg/wheels/f7/d7/9d/824c3b88b5bd8c28b8c576f20984e3cf31a80def7e3deae10a\n",
      "Successfully built feasibgs\n"
     ]
    }
   ],
   "source": [
    "!pip install git+https://github.com/desi-bgs/feasiBGS.git"
   ]
  },
  {
   "cell_type": "code",
   "execution_count": 24,
   "id": "adb538fd-1f05-408a-a585-5e34330448cb",
   "metadata": {},
   "outputs": [
    {
     "name": "stdout",
     "output_type": "stream",
     "text": [
      "/global/cscratch1/sd/chahah/gqp_mc/mini_mocha/lgal_fsps.bgs_spec.v1.3.fits\n",
      "INFO:spectra.py:159:write_spectra: iotime 0.717 sec to write lgal_fsps.bgs_spec.v1.3.fits at 2021-06-25T04:13:03.124476\n"
     ]
    }
   ],
   "source": [
    "from feasibgs import spectral_sims as BGS_spec_sim\n",
    "from feasibgs import forwardmodel as BGS_fm\n",
    "\n",
    "# read in nominal dark sky\n",
    "Idark = BGS_spec_sim.nominal_dark_sky()\n",
    "\n",
    "# BGS forward model object\n",
    "fdesi = BGS_fm.fakeDESIspec()\n",
    "\n",
    "spectra_bgs = {} \n",
    "\n",
    "fbgs = os.path.join('/global/cscratch1/sd/chahah/gqp_mc/', 'mini_mocha', 'lgal_fsps.bgs_spec.v%s.fits' % version)\n",
    "print(fbgs)\n",
    "bgs_spec = fdesi.simExposure(\n",
    "        wave_lin,        # wavelength  \n",
    "        spectra_fiber,            # fiber spectra flux \n",
    "        exptime=180.,\n",
    "        airmass=1.1,\n",
    "        Isky=[Idark[0].value, Idark[1].value],\n",
    "        filename=fbgs\n",
    "    )\n",
    "\n",
    "spectra_bgs['wave_b'] = bgs_spec.wave['b']\n",
    "spectra_bgs['wave_r'] = bgs_spec.wave['r']\n",
    "spectra_bgs['wave_z'] = bgs_spec.wave['z']\n",
    "spectra_bgs['flux_b'] = bgs_spec.flux['b']\n",
    "spectra_bgs['flux_r'] = bgs_spec.flux['r']\n",
    "spectra_bgs['flux_z'] = bgs_spec.flux['z']\n",
    "\n",
    "spectra_bgs['ivar_b'] = bgs_spec.ivar['b']\n",
    "spectra_bgs['ivar_r'] = bgs_spec.ivar['r']\n",
    "spectra_bgs['ivar_z'] = bgs_spec.ivar['z']\n",
    "\n",
    "spectra_bgs['res_b'] = bgs_spec.resolution_data['b']\n",
    "spectra_bgs['res_r'] = bgs_spec.resolution_data['r']\n",
    "spectra_bgs['res_z'] = bgs_spec.resolution_data['z']"
   ]
  },
  {
   "cell_type": "code",
   "execution_count": 30,
   "id": "c69a14ab-5f4d-4969-9e27-9fff3a970323",
   "metadata": {},
   "outputs": [],
   "source": [
    "################################################################################\n",
    "# write out everything \n",
    "# meta-data to pickle file\n",
    "fmeta = os.path.join('/global/cscratch1/sd/chahah/gqp_mc/', 'mini_mocha', 'lgal_fsps.mini_mocha.v%s.meta.p' % (version))\n",
    "pickle.dump(meta, open(fmeta, 'wb')) # meta-data\n",
    "    \n",
    "# the rest \n",
    "fout = h5py.File(os.path.join('/global/cscratch1/sd/chahah/gqp_mc/', 'mini_mocha', 'lgal_fsps.mini_mocha.v%s.hdf5' % (version)), 'w')\n",
    "# photometry  \n",
    "for i, b in enumerate(['g', 'r', 'z', 'w1', 'w2']): \n",
    "    # 'true' \n",
    "    fout.create_dataset('photo_flux_%s_true' % b, data=photo_true[:,i]) \n",
    "    fout.create_dataset('photo_ivar_%s_true' % b, data=photo_ivars[:,i]) \n",
    "    # 'measured'\n",
    "    fout.create_dataset('photo_flux_%s_meas' % b, data=photo_meas[:,i]) \n",
    "\n",
    "# fiber flux \n",
    "fout.create_dataset('photo_fiberflux_r_true', data=photo_rfiber_true) \n",
    "fout.create_dataset('photo_fiberflux_r_meas', data=photo_rfiber_meas) \n",
    "fout.create_dataset('photo_fiberflux_r_ivar', data=photo_rivar_fiber) \n",
    "fout.create_dataset('frac_fiber', data=f_fiber) # fraction of flux in fiber\n",
    "\n",
    "# spectroscopy \n",
    "# noiseless source spectra \n",
    "wlim = (wave_lin < 2e5) & (wave_lin > 1e3) # truncating the spectra  \n",
    "fout.create_dataset('spec_wave_source', data=wave_lin[wlim]) \n",
    "fout.create_dataset('spec_flux_source', data=flux_dust_interp[:,wlim]) \n",
    "# noiseless source spectra in fiber \n",
    "fout.create_dataset('spec_fiber_flux_source', data=spectra_fiber[:,wlim])\n",
    "\n",
    "# BGS source spectra \n",
    "for k in spectra_bgs.keys(): \n",
    "    fout.create_dataset('spec_%s_bgs' % k, data=spectra_bgs[k]) \n",
    "fout.close() "
   ]
  },
  {
   "cell_type": "code",
   "execution_count": null,
   "id": "2b987fe5-49aa-47f9-ae4e-3205e8f0e505",
   "metadata": {},
   "outputs": [],
   "source": []
  }
 ],
 "metadata": {
  "kernelspec": {
   "display_name": "DESI master",
   "language": "python",
   "name": "desi-master"
  },
  "language_info": {
   "codemirror_mode": {
    "name": "ipython",
    "version": 3
   },
   "file_extension": ".py",
   "mimetype": "text/x-python",
   "name": "python",
   "nbconvert_exporter": "python",
   "pygments_lexer": "ipython3",
   "version": "3.8.3"
  }
 },
 "nbformat": 4,
 "nbformat_minor": 5
}
